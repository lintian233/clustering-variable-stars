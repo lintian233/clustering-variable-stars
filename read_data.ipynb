{
 "cells": [
  {
   "cell_type": "code",
   "execution_count": 30,
   "id": "061cc0b4-be7e-4e07-8f25-4debe3a9900f",
   "metadata": {
    "editable": true,
    "slideshow": {
     "slide_type": ""
    },
    "tags": []
   },
   "outputs": [],
   "source": [
    "import astrofeatures as AF"
   ]
  },
  {
   "cell_type": "code",
   "execution_count": 31,
   "id": "20c35b5f-0854-43b1-86f8-137a898e6fa3",
   "metadata": {},
   "outputs": [],
   "source": [
    "def get_features(filepath):\n",
    "    return AF.AstroDataFeatures(filepath).INIT()"
   ]
  },
  {
   "cell_type": "code",
   "execution_count": 32,
   "id": "78ef1eae-ffd2-4051-add3-ce2f65ea0606",
   "metadata": {},
   "outputs": [
    {
     "name": "stdout",
     "output_type": "stream",
     "text": [
      "CPU times: total: 2.42 s\n",
      "Wall time: 9.84 s\n"
     ]
    }
   ],
   "source": [
    "%%time\n",
    "f = get_features(r\"OGLE-SMC-LPV-11911.dat\")"
   ]
  },
  {
   "cell_type": "code",
   "execution_count": 50,
   "id": "2ec9e677",
   "metadata": {},
   "outputs": [
    {
     "data": {
      "text/plain": [
       "(143,)"
      ]
     },
     "execution_count": 50,
     "metadata": {},
     "output_type": "execute_result"
    }
   ],
   "source": [
    "f.shape"
   ]
  },
  {
   "cell_type": "code",
   "execution_count": 33,
   "id": "e7787da0",
   "metadata": {},
   "outputs": [],
   "source": [
    "import os"
   ]
  },
  {
   "cell_type": "code",
   "execution_count": 34,
   "id": "b2224a06",
   "metadata": {},
   "outputs": [],
   "source": [
    "def list_dir_of_path(path):\n",
    "    \"\"\"\n",
    "    path: the path of directory\n",
    "    return: the list of directory\n",
    "    \"\"\"\n",
    "    return [f for f in os.listdir(path) if os.path.isdir(os.path.join(path, f))]\n",
    "\n",
    "\n",
    "def read_ocvs_data(datasetpath):\n",
    "    \"\"\"\n",
    "    datasetpath: the path of dataset\n",
    "    返回一个字典 , key是类别, value 是类别数据的相对地址\n",
    "\n",
    "    datasets 的目录结构有四层, 第一层是类别, 第二层是子类别,第三层是I,V波段,第四层是数据\n",
    "    \"\"\"\n",
    "    dataset = {}\n",
    "\n",
    "    class_dir = list_dir_of_path(datasetpath)\n",
    "    for class_name in class_dir:\n",
    "      dir_path = os.path.join(datasetpath,class_name)\n",
    "      sub_class_name = list_dir_of_path(dir_path)      \n",
    "      for sub_class in sub_class_name:\n",
    "        subdir_path = os.path.join(dir_path,sub_class)\n",
    "        I_data_path = os.path.join(subdir_path,\"I\")\n",
    "        I_file_list = os.listdir(I_data_path)\n",
    "        I_file_list_path = [os.path.join(I_data_path, f) for f in I_file_list]\n",
    "        dataset[sub_class] = I_file_list_path\n",
    "\n",
    "    return dataset\n",
    "\n",
    "\n"
   ]
  },
  {
   "cell_type": "code",
   "execution_count": 35,
   "id": "d2ec7958",
   "metadata": {},
   "outputs": [
    {
     "name": "stdout",
     "output_type": "stream",
     "text": [
      "A 89\n",
      "T110 1500\n",
      "T120 97\n",
      "T1F 1471\n",
      "T1M 558\n",
      "T2 603\n",
      "DPV 137\n",
      "M 78\n",
      "S 1500\n",
      "C 1237\n",
      "CV 18\n",
      "ELL 1360\n",
      "NC 800\n",
      "MIRA 1500\n",
      "OSARG 1500\n",
      "SRV 1500\n",
      "RRAB 1500\n",
      "RRC 1500\n",
      "RRD 1335\n",
      "RRE 1378\n"
     ]
    }
   ],
   "source": [
    "dataset = read_ocvs_data(r\"datasets/OCVS\")\n",
    "for i,j in dataset.items():\n",
    "  print(i,len(j))"
   ]
  },
  {
   "cell_type": "code",
   "execution_count": 59,
   "id": "9e0b084a",
   "metadata": {},
   "outputs": [
    {
     "name": "stdout",
     "output_type": "stream",
     "text": [
      "datasets/OCVS\\RRLYR\\RRAB\\I\\OGLE-BLG-RRLYR-00001.dat\n",
      "(60, 143)\n"
     ]
    },
    {
     "name": "stderr",
     "output_type": "stream",
     "text": [
      "d:\\Code\\astronomy\\Semi-supervised classification with variable star\\clustering_variable_stars_2022\\astrofeatures\\features.py:97: RuntimeWarning: invalid value encountered in divide\n",
      "  normalized_arr = (array - med) / iqr\n"
     ]
    },
    {
     "name": "stdout",
     "output_type": "stream",
     "text": [
      "0\n",
      "2\n",
      "1\n",
      "4\n",
      "3\n",
      "5\n",
      "['datasets/OCVS\\\\RRLYR\\\\RRAB\\\\I\\\\OGLE-BLG-RRLYR-00001.dat', 'datasets/OCVS\\\\RRLYR\\\\RRAB\\\\I\\\\OGLE-BLG-RRLYR-00003.dat', 'datasets/OCVS\\\\RRLYR\\\\RRAB\\\\I\\\\OGLE-BLG-RRLYR-00004.dat', 'datasets/OCVS\\\\RRLYR\\\\RRAB\\\\I\\\\OGLE-BLG-RRLYR-00005.dat', 'datasets/OCVS\\\\RRLYR\\\\RRAB\\\\I\\\\OGLE-BLG-RRLYR-00006.dat', 'datasets/OCVS\\\\RRLYR\\\\RRAB\\\\I\\\\OGLE-BLG-RRLYR-00008.dat', 'datasets/OCVS\\\\RRLYR\\\\RRAB\\\\I\\\\OGLE-BLG-RRLYR-00009.dat', 'datasets/OCVS\\\\RRLYR\\\\RRAB\\\\I\\\\OGLE-BLG-RRLYR-00010.dat', 'datasets/OCVS\\\\RRLYR\\\\RRAB\\\\I\\\\OGLE-BLG-RRLYR-00014.dat', 'datasets/OCVS\\\\RRLYR\\\\RRAB\\\\I\\\\OGLE-BLG-RRLYR-00016.dat', 'datasets/OCVS\\\\RRLYR\\\\RRAB\\\\I\\\\OGLE-BLG-RRLYR-00019.dat', 'datasets/OCVS\\\\RRLYR\\\\RRAB\\\\I\\\\OGLE-BLG-RRLYR-00020.dat', 'datasets/OCVS\\\\RRLYR\\\\RRAB\\\\I\\\\OGLE-BLG-RRLYR-00021.dat', 'datasets/OCVS\\\\RRLYR\\\\RRAB\\\\I\\\\OGLE-BLG-RRLYR-00025.dat', 'datasets/OCVS\\\\RRLYR\\\\RRAB\\\\I\\\\OGLE-BLG-RRLYR-00027.dat', 'datasets/OCVS\\\\RRLYR\\\\RRAB\\\\I\\\\OGLE-BLG-RRLYR-00029.dat', 'datasets/OCVS\\\\RRLYR\\\\RRAB\\\\I\\\\OGLE-BLG-RRLYR-00030.dat', 'datasets/OCVS\\\\RRLYR\\\\RRAB\\\\I\\\\OGLE-BLG-RRLYR-00031.dat', 'datasets/OCVS\\\\RRLYR\\\\RRAB\\\\I\\\\OGLE-BLG-RRLYR-00034.dat', 'datasets/OCVS\\\\RRLYR\\\\RRAB\\\\I\\\\OGLE-BLG-RRLYR-00041.dat', 'datasets/OCVS\\\\RRLYR\\\\RRAB\\\\I\\\\OGLE-BLG-RRLYR-00001.dat', 'datasets/OCVS\\\\RRLYR\\\\RRAB\\\\I\\\\OGLE-BLG-RRLYR-00003.dat', 'datasets/OCVS\\\\RRLYR\\\\RRAB\\\\I\\\\OGLE-BLG-RRLYR-00004.dat', 'datasets/OCVS\\\\RRLYR\\\\RRAB\\\\I\\\\OGLE-BLG-RRLYR-00005.dat', 'datasets/OCVS\\\\RRLYR\\\\RRAB\\\\I\\\\OGLE-BLG-RRLYR-00006.dat', 'datasets/OCVS\\\\RRLYR\\\\RRAB\\\\I\\\\OGLE-BLG-RRLYR-00008.dat', 'datasets/OCVS\\\\RRLYR\\\\RRAB\\\\I\\\\OGLE-BLG-RRLYR-00009.dat', 'datasets/OCVS\\\\RRLYR\\\\RRAB\\\\I\\\\OGLE-BLG-RRLYR-00010.dat', 'datasets/OCVS\\\\RRLYR\\\\RRAB\\\\I\\\\OGLE-BLG-RRLYR-00014.dat', 'datasets/OCVS\\\\RRLYR\\\\RRAB\\\\I\\\\OGLE-BLG-RRLYR-00016.dat', 'datasets/OCVS\\\\RRLYR\\\\RRAB\\\\I\\\\OGLE-BLG-RRLYR-00019.dat', 'datasets/OCVS\\\\RRLYR\\\\RRAB\\\\I\\\\OGLE-BLG-RRLYR-00020.dat', 'datasets/OCVS\\\\RRLYR\\\\RRAB\\\\I\\\\OGLE-BLG-RRLYR-00021.dat', 'datasets/OCVS\\\\RRLYR\\\\RRAB\\\\I\\\\OGLE-BLG-RRLYR-00025.dat', 'datasets/OCVS\\\\RRLYR\\\\RRAB\\\\I\\\\OGLE-BLG-RRLYR-00027.dat', 'datasets/OCVS\\\\RRLYR\\\\RRAB\\\\I\\\\OGLE-BLG-RRLYR-00029.dat', 'datasets/OCVS\\\\RRLYR\\\\RRAB\\\\I\\\\OGLE-BLG-RRLYR-00030.dat', 'datasets/OCVS\\\\RRLYR\\\\RRAB\\\\I\\\\OGLE-BLG-RRLYR-00031.dat', 'datasets/OCVS\\\\RRLYR\\\\RRAB\\\\I\\\\OGLE-BLG-RRLYR-00034.dat', 'datasets/OCVS\\\\RRLYR\\\\RRAB\\\\I\\\\OGLE-BLG-RRLYR-00041.dat', 'datasets/OCVS\\\\RRLYR\\\\RRAB\\\\I\\\\OGLE-BLG-RRLYR-00001.dat', 'datasets/OCVS\\\\RRLYR\\\\RRAB\\\\I\\\\OGLE-BLG-RRLYR-00003.dat', 'datasets/OCVS\\\\RRLYR\\\\RRAB\\\\I\\\\OGLE-BLG-RRLYR-00004.dat', 'datasets/OCVS\\\\RRLYR\\\\RRAB\\\\I\\\\OGLE-BLG-RRLYR-00005.dat', 'datasets/OCVS\\\\RRLYR\\\\RRAB\\\\I\\\\OGLE-BLG-RRLYR-00006.dat', 'datasets/OCVS\\\\RRLYR\\\\RRAB\\\\I\\\\OGLE-BLG-RRLYR-00008.dat', 'datasets/OCVS\\\\RRLYR\\\\RRAB\\\\I\\\\OGLE-BLG-RRLYR-00009.dat', 'datasets/OCVS\\\\RRLYR\\\\RRAB\\\\I\\\\OGLE-BLG-RRLYR-00010.dat', 'datasets/OCVS\\\\RRLYR\\\\RRAB\\\\I\\\\OGLE-BLG-RRLYR-00014.dat', 'datasets/OCVS\\\\RRLYR\\\\RRAB\\\\I\\\\OGLE-BLG-RRLYR-00016.dat', 'datasets/OCVS\\\\RRLYR\\\\RRAB\\\\I\\\\OGLE-BLG-RRLYR-00019.dat', 'datasets/OCVS\\\\RRLYR\\\\RRAB\\\\I\\\\OGLE-BLG-RRLYR-00020.dat', 'datasets/OCVS\\\\RRLYR\\\\RRAB\\\\I\\\\OGLE-BLG-RRLYR-00021.dat', 'datasets/OCVS\\\\RRLYR\\\\RRAB\\\\I\\\\OGLE-BLG-RRLYR-00025.dat', 'datasets/OCVS\\\\RRLYR\\\\RRAB\\\\I\\\\OGLE-BLG-RRLYR-00027.dat', 'datasets/OCVS\\\\RRLYR\\\\RRAB\\\\I\\\\OGLE-BLG-RRLYR-00029.dat', 'datasets/OCVS\\\\RRLYR\\\\RRAB\\\\I\\\\OGLE-BLG-RRLYR-00030.dat', 'datasets/OCVS\\\\RRLYR\\\\RRAB\\\\I\\\\OGLE-BLG-RRLYR-00031.dat', 'datasets/OCVS\\\\RRLYR\\\\RRAB\\\\I\\\\OGLE-BLG-RRLYR-00034.dat', 'datasets/OCVS\\\\RRLYR\\\\RRAB\\\\I\\\\OGLE-BLG-RRLYR-00041.dat']\n",
      "['datasets/OCVS\\\\RRLYR\\\\RRAB\\\\I\\\\OGLE-BLG-RRLYR-00001.dat', 'datasets/OCVS\\\\RRLYR\\\\RRAB\\\\I\\\\OGLE-BLG-RRLYR-00003.dat', 'datasets/OCVS\\\\RRLYR\\\\RRAB\\\\I\\\\OGLE-BLG-RRLYR-00004.dat', 'datasets/OCVS\\\\RRLYR\\\\RRAB\\\\I\\\\OGLE-BLG-RRLYR-00005.dat', 'datasets/OCVS\\\\RRLYR\\\\RRAB\\\\I\\\\OGLE-BLG-RRLYR-00006.dat', 'datasets/OCVS\\\\RRLYR\\\\RRAB\\\\I\\\\OGLE-BLG-RRLYR-00008.dat', 'datasets/OCVS\\\\RRLYR\\\\RRAB\\\\I\\\\OGLE-BLG-RRLYR-00009.dat', 'datasets/OCVS\\\\RRLYR\\\\RRAB\\\\I\\\\OGLE-BLG-RRLYR-00010.dat', 'datasets/OCVS\\\\RRLYR\\\\RRAB\\\\I\\\\OGLE-BLG-RRLYR-00014.dat', 'datasets/OCVS\\\\RRLYR\\\\RRAB\\\\I\\\\OGLE-BLG-RRLYR-00016.dat', 'datasets/OCVS\\\\RRLYR\\\\RRAB\\\\I\\\\OGLE-BLG-RRLYR-00019.dat', 'datasets/OCVS\\\\RRLYR\\\\RRAB\\\\I\\\\OGLE-BLG-RRLYR-00020.dat', 'datasets/OCVS\\\\RRLYR\\\\RRAB\\\\I\\\\OGLE-BLG-RRLYR-00021.dat', 'datasets/OCVS\\\\RRLYR\\\\RRAB\\\\I\\\\OGLE-BLG-RRLYR-00025.dat', 'datasets/OCVS\\\\RRLYR\\\\RRAB\\\\I\\\\OGLE-BLG-RRLYR-00027.dat', 'datasets/OCVS\\\\RRLYR\\\\RRAB\\\\I\\\\OGLE-BLG-RRLYR-00029.dat', 'datasets/OCVS\\\\RRLYR\\\\RRAB\\\\I\\\\OGLE-BLG-RRLYR-00030.dat', 'datasets/OCVS\\\\RRLYR\\\\RRAB\\\\I\\\\OGLE-BLG-RRLYR-00031.dat', 'datasets/OCVS\\\\RRLYR\\\\RRAB\\\\I\\\\OGLE-BLG-RRLYR-00034.dat', 'datasets/OCVS\\\\RRLYR\\\\RRAB\\\\I\\\\OGLE-BLG-RRLYR-00041.dat']\n",
      "CPU times: total: 34.2 s\n",
      "Wall time: 23.9 s\n"
     ]
    }
   ],
   "source": [
    "%%time\n",
    "import threading as td\n",
    "import time\n",
    "import numpy as np\n",
    "\n",
    "empty = td.Semaphore(5)\n",
    "\n",
    "index = 0\n",
    "\n",
    "index_lock = td.Lock()\n",
    "\n",
    "array = np.arange(60)\n",
    "\n",
    "\n",
    "print(dataset['RRAB'][0])\n",
    "RRAB_data = np.zeros((60, 143),dtype=np.float64)\n",
    "print(RRAB_data.shape)\n",
    "def get_data():\n",
    "    for i in range(1):\n",
    "        empty.acquire()\n",
    "        \n",
    "        index_lock.acquire()\n",
    "        global index\n",
    "        current_index = index\n",
    "        index += 1\n",
    "        index_lock.release()\n",
    "        \n",
    "        RRAB_data[current_index] = get_features(dataset['RRAB'][current_index])\n",
    "        print(current_index)\n",
    "        empty.release()\n",
    "\n",
    "threads = []\n",
    "for i in range(5):\n",
    "    t1 = td.Thread(target=get_data)\n",
    "    threads.append(t1)\n",
    "    t1.start()\n",
    "\n",
    "for i in threads:\n",
    "    i.join()\n",
    "\n",
    "print(index)\n",
    "print(array_data)\n",
    "print(dataset['RRAB'][:20])\n"
   ]
  },
  {
   "cell_type": "code",
   "execution_count": 57,
   "id": "4695b911",
   "metadata": {},
   "outputs": [
    {
     "name": "stdout",
     "output_type": "stream",
     "text": [
      "(143,)\n",
      "(143,)\n",
      "(143,)\n",
      "(143,)\n",
      "(143,)\n",
      "(143,)\n",
      "(143,)\n",
      "(143,)\n",
      "(143,)\n",
      "(143,)\n"
     ]
    }
   ],
   "source": [
    "for i in range(10):\n",
    "    print(RRAB_data[i].shape)"
   ]
  },
  {
   "cell_type": "code",
   "execution_count": null,
   "id": "2b587640",
   "metadata": {},
   "outputs": [],
   "source": []
  }
 ],
 "metadata": {
  "kernelspec": {
   "display_name": "aiastro",
   "language": "python",
   "name": "python3"
  },
  "language_info": {
   "codemirror_mode": {
    "name": "ipython",
    "version": 3
   },
   "file_extension": ".py",
   "mimetype": "text/x-python",
   "name": "python",
   "nbconvert_exporter": "python",
   "pygments_lexer": "ipython3",
   "version": "3.10.13"
  }
 },
 "nbformat": 4,
 "nbformat_minor": 5
}
