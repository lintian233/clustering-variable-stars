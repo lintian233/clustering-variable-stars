{
 "cells": [
  {
   "cell_type": "code",
   "execution_count": 1,
   "id": "061cc0b4-be7e-4e07-8f25-4debe3a9900f",
   "metadata": {
    "editable": true,
    "slideshow": {
     "slide_type": ""
    },
    "tags": []
   },
   "outputs": [],
   "source": [
    "import astrofeatures as AF\n"
   ]
  },
  {
   "cell_type": "code",
   "execution_count": 2,
   "id": "20c35b5f-0854-43b1-86f8-137a898e6fa3",
   "metadata": {},
   "outputs": [],
   "source": [
    "def get_features(filepath):\n",
    "    return AF.AstroDataFeatures(filepath).INIT()"
   ]
  },
  {
   "cell_type": "code",
   "execution_count": 3,
   "id": "78ef1eae-ffd2-4051-add3-ce2f65ea0606",
   "metadata": {},
   "outputs": [
    {
     "name": "stdout",
     "output_type": "stream",
     "text": [
      "CPU times: total: 547 ms\n",
      "Wall time: 8.48 s\n"
     ]
    }
   ],
   "source": [
    "%%time\n",
    "f = get_features(r\"datasets\\OCVS\\LPV\\MIRA\\I\\OGLE-BLG-LPV-000113.dat\")"
   ]
  },
  {
   "cell_type": "code",
   "execution_count": 4,
   "id": "2ec9e677",
   "metadata": {},
   "outputs": [
    {
     "data": {
      "text/plain": [
       "array([ 1.96050094e+02,  5.17428174e-01,  6.89000000e-01,  3.51440790e-03,\n",
       "        1.71800000e+00,  2.78885094e-01,  3.44086022e+01,  3.01075269e-01,\n",
       "        9.63267795e+00,  0.00000000e+00, -4.11968491e-01,  1.82544970e-01,\n",
       "        2.91872085e-01,  4.59027315e-01,  5.94137242e-01,  7.98800799e-01,\n",
       "       -4.07242833e-01, -3.61807258e-01,  1.06197369e-01,  5.00853695e-03,\n",
       "       -5.71954682e-02, -8.92173164e-02,  7.50282547e-01,  8.23624712e-01,\n",
       "        4.10174427e-01,  2.36389685e-01,  4.82159683e-03,  2.52724794e+00,\n",
       "        3.22779253e+01,  1.87826745e+01,  7.24818004e+00,  1.65611852e+00,\n",
       "        3.49060734e+01,  2.10660758e+01,  8.19385443e+00,  1.89646878e+00,\n",
       "        1.00330616e+00, -9.50726399e-01, -2.97201013e+00,  1.44374551e+00,\n",
       "       -2.57737964e+00,  1.27133026e+00, -1.21117912e+00,  2.68960639e+00,\n",
       "       -2.35148179e-01, -6.48676640e-01, -1.28981420e+00, -2.19317356e-01,\n",
       "       -6.29412754e-01, -1.26495530e+00, -7.95975989e-01,  4.98226092e-01,\n",
       "        1.58690273e-01, -5.69673308e-01, -4.83470511e-01, -0.00000000e+00,\n",
       "        5.16529489e-01,  9.17158800e-01, -5.31239139e-01, -3.87953251e-01,\n",
       "       -0.00000000e+00,  6.12046749e-01,  9.49309223e-01, -8.41774924e-01,\n",
       "       -8.15418098e-01, -0.00000000e+00,  1.84581902e-01,  4.82964108e-01,\n",
       "       -3.01731419e+00, -9.29355837e-01, -0.00000000e+00,  7.06441633e-02,\n",
       "        5.60382302e-01, -7.19132121e-01, -2.45130951e-01, -0.00000000e+00,\n",
       "        7.54869049e-01,  8.92685049e-01, -2.61875897e+00, -3.13120040e-01,\n",
       "       -0.00000000e+00,  6.86879960e-01,  1.15186041e+00, -1.08248382e+00,\n",
       "       -5.49057864e-01, -0.00000000e+00,  4.50942136e-01,  7.90207796e-01,\n",
       "       -1.05118297e+00, -7.51480850e-01, -0.00000000e+00,  2.48519150e-01,\n",
       "        3.29086028e-01, -3.54311223e+00, -3.68961643e-01, -0.00000000e+00,\n",
       "        6.31038357e-01,  1.30405585e+00, -1.03149400e+00, -7.30019149e-01,\n",
       "       -0.00000000e+00,  2.69980851e-01,  2.80961037e-01, -3.28207757e+00,\n",
       "       -7.77283636e-01, -0.00000000e+00,  2.22716364e-01,  2.01586493e+00,\n",
       "       -6.08872980e-01, -2.14208576e-01, -0.00000000e+00,  7.85791424e-01,\n",
       "        1.29436612e+00, -4.03354423e+00, -7.95067050e-01, -0.00000000e+00,\n",
       "        2.04932950e-01,  2.36758990e+00, -8.39666892e-01, -3.58036917e-01,\n",
       "       -0.00000000e+00,  6.41963083e-01,  1.91478581e+00, -1.33150333e+00,\n",
       "       -6.53976304e-01, -0.00000000e+00,  3.46023696e-01,  4.81294975e-01,\n",
       "       -9.97063192e-01, -8.87006036e-01, -0.00000000e+00,  1.12993964e-01,\n",
       "        1.42601696e+00, -1.00217725e+00, -6.12889716e-01, -0.00000000e+00,\n",
       "        3.87110284e-01,  1.03096190e+00, -5.77303172e+00, -7.54239356e-01,\n",
       "       -0.00000000e+00,  2.45760644e-01,  3.81090808e-01])"
      ]
     },
     "execution_count": 4,
     "metadata": {},
     "output_type": "execute_result"
    }
   ],
   "source": [
    "f.shape\n",
    "f"
   ]
  },
  {
   "cell_type": "code",
   "execution_count": 5,
   "id": "e7787da0",
   "metadata": {},
   "outputs": [],
   "source": [
    "import os"
   ]
  },
  {
   "cell_type": "code",
   "execution_count": 6,
   "id": "b2224a06",
   "metadata": {},
   "outputs": [],
   "source": [
    "def list_dir_of_path(path):\n",
    "    \"\"\"\n",
    "    path: the path of directory\n",
    "    return: the list of directory\n",
    "    \"\"\"\n",
    "    return [f for f in os.listdir(path) if os.path.isdir(os.path.join(path, f))]\n",
    "\n",
    "\n",
    "def read_ocvs_data(datasetpath):\n",
    "    \"\"\"\n",
    "    datasetpath: the path of dataset\n",
    "    返回一个字典 , key是类别, value 是类别数据的相对地址\n",
    "\n",
    "    datasets 的目录结构有四层, 第一层是类别, 第二层是子类别,第三层是I,V波段,第四层是数据\n",
    "    \"\"\"\n",
    "    dataset = {}\n",
    "\n",
    "    class_dir = list_dir_of_path(datasetpath)\n",
    "    for class_name in class_dir:\n",
    "      dir_path = os.path.join(datasetpath,class_name)\n",
    "      sub_class_name = list_dir_of_path(dir_path)      \n",
    "      for sub_class in sub_class_name:\n",
    "        subdir_path = os.path.join(dir_path,sub_class)\n",
    "        I_data_path = os.path.join(subdir_path,\"I\")\n",
    "        I_file_list = os.listdir(I_data_path)\n",
    "        I_file_list_path = [os.path.join(I_data_path, f) for f in I_file_list]\n",
    "        dataset[sub_class] = I_file_list_path\n",
    "\n",
    "    return dataset\n",
    "\n",
    "\n"
   ]
  },
  {
   "cell_type": "code",
   "execution_count": 7,
   "id": "d2ec7958",
   "metadata": {},
   "outputs": [
    {
     "name": "stdout",
     "output_type": "stream",
     "text": [
      "A 89\n",
      "T110 1500\n",
      "T120 97\n",
      "T1F 1471\n",
      "T1M 558\n",
      "T2 603\n",
      "DPV 137\n",
      "M 78\n",
      "S 1500\n",
      "C 1237\n",
      "CV 18\n",
      "ELL 1360\n",
      "NC 800\n",
      "MIRA 1500\n",
      "OSARG 1500\n",
      "SRV 1500\n",
      "RRAB 1500\n",
      "RRC 1500\n",
      "RRD 1335\n",
      "RRE 1378\n"
     ]
    }
   ],
   "source": [
    "dataset = read_ocvs_data(r\"datasets/OCVS\")\n",
    "for i,j in dataset.items():\n",
    "  print(i,len(j))"
   ]
  },
  {
   "cell_type": "code",
   "execution_count": 8,
   "id": "9e0b084a",
   "metadata": {},
   "outputs": [
    {
     "name": "stdout",
     "output_type": "stream",
     "text": [
      "(60, 143)\n"
     ]
    },
    {
     "name": "stdout",
     "output_type": "stream",
     "text": [
      "(143,)\n",
      "(143,)\n",
      "(143,)\n",
      "(143,)\n",
      "(143,)\n",
      "CPU times: total: 2min 22s\n",
      "Wall time: 25.4 s\n"
     ]
    }
   ],
   "source": [
    "%%time\n",
    "import threading as td\n",
    "import time\n",
    "import numpy as np\n",
    "\n",
    "empty = td.Semaphore(5)\n",
    "\n",
    "index = 0\n",
    "\n",
    "index_lock = td.Lock()\n",
    "\n",
    "RRAB_data = np.zeros((60, 143),dtype=np.float64)\n",
    "print(RRAB_data.shape)\n",
    "def get_data():\n",
    "    empty.acquire()\n",
    "    \n",
    "    index_lock.acquire()\n",
    "    global index\n",
    "    current_index = index\n",
    "    index += 1\n",
    "    index_lock.release()\n",
    "    features = get_features(dataset['RRAB'][current_index])\n",
    "    RRAB_data[current_index] = features\n",
    "    print(features.shape)\n",
    "\n",
    "    empty.release()\n",
    "\n",
    "threads = []\n",
    "for i in range(5):\n",
    "    t1 = td.Thread(target=get_data)\n",
    "    threads.append(t1)\n",
    "    t1.start()\n",
    "\n",
    "for i in threads:\n",
    "    i.join()\n",
    "\n"
   ]
  },
  {
   "cell_type": "code",
   "execution_count": 1,
   "id": "b4369283",
   "metadata": {},
   "outputs": [
    {
     "name": "stdout",
     "output_type": "stream",
     "text": [
      "CPU times: total: 0 ns\n",
      "Wall time: 0 ns\n"
     ]
    }
   ],
   "source": [
    "%%time\n",
    "import concurrent.futures as cf\n",
    "\n",
    "def read_class_data(path_array, class_num):\n",
    "    arr = np.zeros((len(path_array), 143), dtype=np.float64)\n",
    "    with cf.ThreadPoolExecutor(max_workers=30) as executor:\n",
    "        results = executor.map(get_features, path_array)\n",
    "\n",
    "    for i, result in enumerate(results):\n",
    "        arr[i] = result\n",
    "    \n",
    "    class_label = np.array([class_num] * len(path_array))\n",
    "    return arr, class_label\n",
    "\n",
    "def save_npy(arr, class_label, class_name):\n",
    "    np.save(f\"./npy_data/{class_name}_data.npy\", arr)\n",
    "    np.save(f\"./npy_data/{class_name}_label.npy\", class_label)"
   ]
  },
  {
   "cell_type": "code",
   "execution_count": 15,
   "id": "d039c4f1",
   "metadata": {},
   "outputs": [],
   "source": [
    "dataset = read_ocvs_data(r\"datasets/OCVS\")\n",
    "class_num =[i for i in range(len(dataset.keys()))]\n",
    "for i in class_num:\n",
    "    for class_name, path_arr in dataset.items():\n",
    "        arr, class_label = read_class_data(path_arr, i)\n",
    "        save_npy(arr, class_label, class_name)"
   ]
  },
  {
   "cell_type": "code",
   "execution_count": null,
   "id": "0f08f23b",
   "metadata": {},
   "outputs": [],
   "source": []
  }
 ],
 "metadata": {
  "kernelspec": {
   "display_name": "aiastro",
   "language": "python",
   "name": "python3"
  },
  "language_info": {
   "codemirror_mode": {
    "name": "ipython",
    "version": 3
   },
   "file_extension": ".py",
   "mimetype": "text/x-python",
   "name": "python",
   "nbconvert_exporter": "python",
   "pygments_lexer": "ipython3",
   "version": "3.10.13"
  }
 },
 "nbformat": 4,
 "nbformat_minor": 5
}
