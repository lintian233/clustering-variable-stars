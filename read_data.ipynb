{
 "cells": [
  {
   "cell_type": "code",
   "execution_count": 1,
   "id": "061cc0b4-be7e-4e07-8f25-4debe3a9900f",
   "metadata": {
    "editable": true,
    "slideshow": {
     "slide_type": ""
    },
    "tags": []
   },
   "outputs": [],
   "source": [
    "import astrofeatures as AF"
   ]
  },
  {
   "cell_type": "code",
   "execution_count": 2,
   "id": "20c35b5f-0854-43b1-86f8-137a898e6fa3",
   "metadata": {},
   "outputs": [],
   "source": [
    "def get_features(filepath):\n",
    "    return AF.AstroDataFeatures(filepath).INIT()"
   ]
  },
  {
   "cell_type": "code",
   "execution_count": 3,
   "id": "78ef1eae-ffd2-4051-add3-ce2f65ea0606",
   "metadata": {},
   "outputs": [
    {
     "name": "stdout",
     "output_type": "stream",
     "text": [
      "CPU times: user 11.4 s, sys: 4.9 s, total: 16.3 s\n",
      "Wall time: 16.3 s\n"
     ]
    }
   ],
   "source": [
    "%%time\n",
    "f = get_features(r\"OGLE-SMC-LPV-11911.dat\")"
   ]
  },
  {
   "cell_type": "code",
   "execution_count": 4,
   "id": "2ec9e677",
   "metadata": {},
   "outputs": [
    {
     "data": {
      "text/plain": [
       "array([ 2.41090495e+02,  3.55824532e-02,  4.90000000e-02,  2.03243185e-04,\n",
       "        2.03000000e-01,  2.27288883e-01,  2.69125683e+01,  5.53278689e-01,\n",
       "        1.20931518e+00,  5.32786885e-02,  4.93449916e-01,  1.21475054e-01,\n",
       "        2.00960645e-01,  3.03687636e-01,  4.77688255e-01,  7.49302758e-01,\n",
       "        9.86326120e-01,  3.54824487e-01,  2.02721220e-02,  1.41512102e-01,\n",
       "        4.48285133e-02,  2.04974322e-02,  5.48910606e-01,  7.52633435e-01,\n",
       "        2.29242241e-01,  1.37500000e+00,  8.70730681e-06,  2.65365125e+00,\n",
       "        1.08744698e-01,  8.44725996e-02,  1.57905757e-02,  3.53450924e-02,\n",
       "        1.29014468e-01,  7.57856340e-02,  2.15776191e-02,  1.68375735e-02,\n",
       "       -6.89712563e-01,  6.78349276e-01,  4.08746427e-01,  2.96274308e-01,\n",
       "       -2.91307244e+00, -1.04472727e+00, -1.06059237e+00, -6.45395068e-02,\n",
       "       -1.09692231e-01, -8.38010128e-01, -4.88078969e-01, -2.31051528e-01,\n",
       "       -7.76634894e-01, -8.84358911e-01, -2.65807689e-03,  4.88815324e-02,\n",
       "        2.99113541e-02, -2.29314176e+00, -4.27857451e-02, -0.00000000e+00,\n",
       "        9.57214255e-01,  2.96684079e+00, -4.38289173e+00, -8.29122475e-01,\n",
       "       -0.00000000e+00,  1.70877525e-01,  4.59928757e-01, -1.20056901e+00,\n",
       "       -7.28781048e-01, -0.00000000e+00,  2.71218952e-01,  5.15870090e-01,\n",
       "       -4.30779266e-01, -3.54796776e-01, -0.00000000e+00,  6.45203224e-01,\n",
       "        1.64527485e+00, -1.08368539e+00, -8.29181370e-01, -0.00000000e+00,\n",
       "        1.70818630e-01,  1.89388955e-01, -3.66869763e+00, -8.01480035e-01,\n",
       "       -0.00000000e+00,  1.98519965e-01,  5.23891982e-01, -1.38851794e+00,\n",
       "       -8.68639024e-01, -0.00000000e+00,  1.31360976e-01,  2.31794458e-01,\n",
       "       -9.76347395e-01, -1.78550609e-01, -0.00000000e+00,  8.21449391e-01,\n",
       "        9.10359742e-01, -9.07218802e-01, -8.03705176e-01, -0.00000000e+00,\n",
       "        1.96294824e-01,  2.96663813e-01, -1.59367344e+00, -7.17284684e-01,\n",
       "       -0.00000000e+00,  2.82715316e-01,  8.72562047e-01, -1.00298038e+00,\n",
       "       -3.93482330e-01, -0.00000000e+00,  6.06517670e-01,  6.09441744e-01,\n",
       "       -7.91559504e-01, -7.73545668e-01, -0.00000000e+00,  2.26454332e-01,\n",
       "        3.68212699e-01, -6.50998806e+00, -8.29214723e-01, -0.00000000e+00,\n",
       "        1.70785277e-01,  5.19283583e-01, -2.12660589e+00, -5.59309301e-01,\n",
       "       -0.00000000e+00,  4.40690699e-01,  5.78008873e-01, -1.29532596e+00,\n",
       "       -8.68600903e-01, -0.00000000e+00,  1.31399097e-01,  2.82722465e-01,\n",
       "       -1.05032542e+01, -9.73515699e-01, -0.00000000e+00,  2.64843005e-02,\n",
       "        1.72620391e-01, -8.18119607e-01, -7.57128177e-01, -0.00000000e+00,\n",
       "        2.42871823e-01,  6.02222456e-01, -1.10359013e+00, -6.71403121e-01,\n",
       "       -0.00000000e+00,  3.28596879e-01,  4.32465060e+00])"
      ]
     },
     "execution_count": 4,
     "metadata": {},
     "output_type": "execute_result"
    }
   ],
   "source": [
    "f.shape\n",
    "f"
   ]
  },
  {
   "cell_type": "code",
   "execution_count": 5,
   "id": "e7787da0",
   "metadata": {},
   "outputs": [],
   "source": [
    "import os"
   ]
  },
  {
   "cell_type": "code",
   "execution_count": 6,
   "id": "b2224a06",
   "metadata": {},
   "outputs": [],
   "source": [
    "def list_dir_of_path(path):\n",
    "    \"\"\"\n",
    "    path: the path of directory\n",
    "    return: the list of directory\n",
    "    \"\"\"\n",
    "    return [f for f in os.listdir(path) if os.path.isdir(os.path.join(path, f))]\n",
    "\n",
    "\n",
    "def read_ocvs_data(datasetpath):\n",
    "    \"\"\"\n",
    "    datasetpath: the path of dataset\n",
    "    返回一个字典 , key是类别, value 是类别数据的相对地址\n",
    "\n",
    "    datasets 的目录结构有四层, 第一层是类别, 第二层是子类别,第三层是I,V波段,第四层是数据\n",
    "    \"\"\"\n",
    "    dataset = {}\n",
    "\n",
    "    class_dir = list_dir_of_path(datasetpath)\n",
    "    for class_name in class_dir:\n",
    "      dir_path = os.path.join(datasetpath,class_name)\n",
    "      sub_class_name = list_dir_of_path(dir_path)      \n",
    "      for sub_class in sub_class_name:\n",
    "        subdir_path = os.path.join(dir_path,sub_class)\n",
    "        I_data_path = os.path.join(subdir_path,\"I\")\n",
    "        I_file_list = os.listdir(I_data_path)\n",
    "        I_file_list_path = [os.path.join(I_data_path, f) for f in I_file_list]\n",
    "        dataset[sub_class] = I_file_list_path\n",
    "\n",
    "    return dataset\n",
    "\n",
    "\n"
   ]
  },
  {
   "cell_type": "code",
   "execution_count": 7,
   "id": "d2ec7958",
   "metadata": {},
   "outputs": [
    {
     "name": "stdout",
     "output_type": "stream",
     "text": [
      "MIRA 1500\n",
      "SRV 1500\n",
      "OSARG 1500\n",
      "RRD 1335\n",
      "RRC 1500\n",
      "RRE 1378\n",
      "RRAB 1500\n",
      "C 1237\n",
      "ELL 1360\n",
      "NC 800\n",
      "CV 18\n",
      "T2 603\n",
      "T110 1500\n",
      "T1F 1471\n",
      "T1M 558\n",
      "A 89\n",
      "T120 97\n",
      "DPV 137\n",
      "M 78\n",
      "S 1500\n"
     ]
    }
   ],
   "source": [
    "dataset = read_ocvs_data(r\"datasets/OCVS\")\n",
    "for i,j in dataset.items():\n",
    "  print(i,len(j))"
   ]
  },
  {
   "cell_type": "code",
   "execution_count": 8,
   "id": "9e0b084a",
   "metadata": {},
   "outputs": [
    {
     "name": "stdout",
     "output_type": "stream",
     "text": [
      "(60, 143)\n",
      "(143,)\n",
      "(143,)\n",
      "(143,)\n",
      "(143,)\n",
      "(143,)\n",
      "CPU times: user 49.3 s, sys: 23.1 s, total: 1min 12s\n",
      "Wall time: 20.7 s\n"
     ]
    }
   ],
   "source": [
    "%%time\n",
    "import threading as td\n",
    "import time\n",
    "import numpy as np\n",
    "\n",
    "empty = td.Semaphore(5)\n",
    "\n",
    "index = 0\n",
    "\n",
    "index_lock = td.Lock()\n",
    "\n",
    "RRAB_data = np.zeros((60, 143),dtype=np.float64)\n",
    "print(RRAB_data.shape)\n",
    "def get_data():\n",
    "    empty.acquire()\n",
    "    \n",
    "    index_lock.acquire()\n",
    "    global index\n",
    "    current_index = index\n",
    "    index += 1\n",
    "    index_lock.release()\n",
    "    features = get_features(dataset['RRAB'][current_index])\n",
    "    RRAB_data[current_index] = features\n",
    "    print(features.shape)\n",
    "\n",
    "    empty.release()\n",
    "\n",
    "threads = []\n",
    "for i in range(5):\n",
    "    t1 = td.Thread(target=get_data)\n",
    "    threads.append(t1)\n",
    "    t1.start()\n",
    "\n",
    "for i in threads:\n",
    "    i.join()\n",
    "\n"
   ]
  },
  {
   "cell_type": "code",
   "execution_count": 9,
   "id": "b4369283",
   "metadata": {},
   "outputs": [
    {
     "name": "stdout",
     "output_type": "stream",
     "text": [
      "CPU times: user 6 µs, sys: 3 µs, total: 9 µs\n",
      "Wall time: 12.9 µs\n"
     ]
    }
   ],
   "source": [
    "%%time\n",
    "import concurrent.futures as cf\n",
    "\n",
    "def read_class_data(path_array, class_num):\n",
    "    arr = np.zeros((len(path_array), 143), dtype=np.float64)\n",
    "    with cf.ThreadPoolExecutor(max_workers=32) as executor:\n",
    "        results = executor.map(get_features, path_array)\n",
    "\n",
    "    for i, result in enumerate(results):\n",
    "        arr[i] = result\n",
    "    \n",
    "    class_label = np.array([class_num] * len(path_array))\n",
    "    return arr, class_label\n",
    "\n",
    "def save_npy(arr, class_label, class_name):\n",
    "    np.save(f\"./npy_data/{class_name}_data.npy\", arr)\n",
    "    np.save(f\"./npy_data/{class_name}_label.npy\", class_label)"
   ]
  },
  {
   "cell_type": "code",
   "execution_count": null,
   "id": "d039c4f1",
   "metadata": {},
   "outputs": [
    {
     "name": "stdout",
     "output_type": "stream",
     "text": [
      "(1500, 143)\n"
     ]
    }
   ],
   "source": [
    "%%time\n",
    "dataset = read_ocvs_data(r\"datasets/OCVS\")\n",
    "class_num =[i for i in range(len(dataset.keys()))]\n",
    "for i in class_num:\n",
    "    for class_name, path_arr in dataset.items():\n",
    "        arr, class_label = read_class_data(path_arr, i)\n",
    "        print(arr.shape)\n",
    "        save_npy(arr, class_label, class_name)\n",
    "        "
   ]
  },
  {
   "cell_type": "code",
   "execution_count": null,
   "id": "0f08f23b",
   "metadata": {},
   "outputs": [],
   "source": []
  },
  {
   "cell_type": "code",
   "execution_count": null,
   "id": "562fa4f3-1b57-473e-9fb4-61f3b1a01f6a",
   "metadata": {},
   "outputs": [],
   "source": []
  }
 ],
 "metadata": {
  "kernelspec": {
   "display_name": "Python [conda env:.conda-variable-star]",
   "language": "python",
   "name": "conda-env-.conda-variable-star-py"
  },
  "language_info": {
   "codemirror_mode": {
    "name": "ipython",
    "version": 3
   },
   "file_extension": ".py",
   "mimetype": "text/x-python",
   "name": "python",
   "nbconvert_exporter": "python",
   "pygments_lexer": "ipython3",
   "version": "3.12.0"
  }
 },
 "nbformat": 4,
 "nbformat_minor": 5
}
