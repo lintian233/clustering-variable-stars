{
 "cells": [
  {
   "cell_type": "code",
   "execution_count": 4,
   "id": "061cc0b4-be7e-4e07-8f25-4debe3a9900f",
   "metadata": {
    "editable": true,
    "slideshow": {
     "slide_type": ""
    },
    "tags": []
   },
   "outputs": [],
   "source": [
    "import astrofeatures as AF\n"
   ]
  },
  {
   "cell_type": "code",
   "execution_count": 5,
   "id": "20c35b5f-0854-43b1-86f8-137a898e6fa3",
   "metadata": {},
   "outputs": [],
   "source": [
    "def get_features(filepath):\n",
    "    return AF.AstroDataFeatures(filepath).INIT()"
   ]
  },
  {
   "cell_type": "code",
   "execution_count": 13,
   "id": "78ef1eae-ffd2-4051-add3-ce2f65ea0606",
   "metadata": {},
   "outputs": [
    {
     "name": "stdout",
     "output_type": "stream",
     "text": [
      "CPU times: total: 1.52 s\n",
      "Wall time: 14.9 s\n"
     ]
    }
   ],
   "source": [
    "%%time\n",
    "f = get_features(r\"datasets/OCVS\\\\RRLYR\\\\RRE\\\\I\\\\OGLE-LMC-RRLYR-06659.dat\")"
   ]
  },
  {
   "cell_type": "code",
   "execution_count": 15,
   "id": "2ec9e677",
   "metadata": {},
   "outputs": [
    {
     "data": {
      "text/plain": [
       "array([ 1.25673843e+02,  1.14160371e-01,  1.54000000e-01,  1.22539421e-03,\n",
       "        3.69000000e-01,  5.22725121e-02,  3.41590613e+01,  4.40677966e-01,\n",
       "        1.79383923e+00,  2.60756193e-03,  1.61074305e-01,  2.04744070e-01,\n",
       "        3.43476904e-01,  4.80649189e-01,  6.36548065e-01,  8.27091136e-01,\n",
       "       -2.90575082e-01, -2.49418648e-01,  1.00460977e+00,  6.73686643e-02,\n",
       "        4.05523555e-02, -1.91768258e-02,  4.74527546e-01,  8.27596448e-01,\n",
       "        2.94591802e-01,  9.74025974e-01,  1.31842325e-04, -6.42669312e-01,\n",
       "        2.24483868e-02,  2.73863821e-02,  3.23939354e-03,  7.23952923e-03,\n",
       "        1.02206327e-01,  3.64699106e-02,  2.08763253e-03,  5.92086334e-03,\n",
       "       -2.71302905e+00,  8.35632655e-01, -2.49854356e+00, -6.57670605e-01,\n",
       "        9.87047618e-01, -2.77201413e+00, -1.02818375e+00, -9.99850308e-01,\n",
       "        8.63495254e-02, -8.40721426e-01, -4.91474812e-01, -4.47543083e-01,\n",
       "       -1.68982373e+00, -1.23709274e+00, -1.72849977e-01,  1.00906981e+00,\n",
       "        1.00187281e+00])"
      ]
     },
     "execution_count": 15,
     "metadata": {},
     "output_type": "execute_result"
    }
   ],
   "source": [
    "f.shape\n",
    "f[0:-90]"
   ]
  },
  {
   "cell_type": "code",
   "execution_count": 9,
   "id": "e7787da0",
   "metadata": {},
   "outputs": [],
   "source": [
    "import os"
   ]
  },
  {
   "cell_type": "code",
   "execution_count": 10,
   "id": "b2224a06",
   "metadata": {},
   "outputs": [],
   "source": [
    "def list_dir_of_path(path):\n",
    "    \"\"\"\n",
    "    path: the path of directory\n",
    "    return: the list of directory\n",
    "    \"\"\"\n",
    "    return [f for f in os.listdir(path) if os.path.isdir(os.path.join(path, f))]\n",
    "\n",
    "\n",
    "def read_ocvs_data(datasetpath):\n",
    "    \"\"\"\n",
    "    datasetpath: the path of dataset\n",
    "    返回一个字典 , key是类别, value 是类别数据的相对地址\n",
    "\n",
    "    datasets 的目录结构有四层, 第一层是类别, 第二层是子类别,第三层是I,V波段,第四层是数据\n",
    "    \"\"\"\n",
    "    dataset = {}\n",
    "\n",
    "    class_dir = list_dir_of_path(datasetpath)\n",
    "    for class_name in class_dir:\n",
    "      dir_path = os.path.join(datasetpath,class_name)\n",
    "      sub_class_name = list_dir_of_path(dir_path)      \n",
    "      for sub_class in sub_class_name:\n",
    "        subdir_path = os.path.join(dir_path,sub_class)\n",
    "        I_data_path = os.path.join(subdir_path,\"I\")\n",
    "        I_file_list = os.listdir(I_data_path)\n",
    "        I_file_list_path = [os.path.join(I_data_path, f) for f in I_file_list]\n",
    "        dataset[sub_class] = I_file_list_path\n",
    "\n",
    "    return dataset\n",
    "\n",
    "\n"
   ]
  },
  {
   "cell_type": "code",
   "execution_count": 12,
   "id": "d2ec7958",
   "metadata": {},
   "outputs": [
    {
     "name": "stdout",
     "output_type": "stream",
     "text": [
      "A 89\n",
      "T110 1500\n",
      "T120 97\n",
      "T1F 1471\n",
      "T1M 558\n",
      "T2 603\n",
      "DPV 137\n",
      "M 78\n",
      "S 1500\n",
      "C 1237\n",
      "CV 18\n",
      "ELL 1360\n",
      "NC 800\n",
      "MIRA 1500\n",
      "OSARG 1500\n",
      "SRV 1500\n",
      "RRAB 1500\n",
      "RRC 1500\n",
      "RRD 1335\n",
      "RRE 1378\n"
     ]
    },
    {
     "data": {
      "text/plain": [
       "'datasets/OCVS\\\\RRLYR\\\\RRE\\\\I\\\\OGLE-LMC-RRLYR-06659.dat'"
      ]
     },
     "execution_count": 12,
     "metadata": {},
     "output_type": "execute_result"
    }
   ],
   "source": [
    "dataset = read_ocvs_data(r\"datasets/OCVS\")\n",
    "for i,j in dataset.items():\n",
    "  print(i,len(j))\n",
    "\n",
    "dataset[\"RRE\"][314]"
   ]
  },
  {
   "cell_type": "code",
   "execution_count": null,
   "id": "9e0b084a",
   "metadata": {},
   "outputs": [
    {
     "name": "stdout",
     "output_type": "stream",
     "text": [
      "(60, 143)\n"
     ]
    },
    {
     "name": "stdout",
     "output_type": "stream",
     "text": [
      "(143,)\n",
      "(143,)\n",
      "(143,)\n",
      "(143,)\n",
      "(143,)\n",
      "CPU times: total: 2min 22s\n",
      "Wall time: 25.4 s\n"
     ]
    }
   ],
   "source": [
    "%%time\n",
    "import threading as td\n",
    "import time\n",
    "import numpy as np\n",
    "\n",
    "empty = td.Semaphore(5)\n",
    "\n",
    "index = 0\n",
    "\n",
    "index_lock = td.Lock()\n",
    "\n",
    "RRAB_data = np.zeros((60, 143),dtype=np.float64)\n",
    "print(RRAB_data.shape)\n",
    "def get_data():\n",
    "    empty.acquire()\n",
    "    \n",
    "    index_lock.acquire()\n",
    "    global index\n",
    "    current_index = index\n",
    "    index += 1\n",
    "    index_lock.release()\n",
    "    features = get_features(dataset['RRAB'][current_index])\n",
    "    RRAB_data[current_index] = features\n",
    "    print(features.shape)\n",
    "\n",
    "    empty.release()\n",
    "\n",
    "threads = []\n",
    "for i in range(5):\n",
    "    t1 = td.Thread(target=get_data)\n",
    "    threads.append(t1)\n",
    "    t1.start()\n",
    "\n",
    "for i in threads:\n",
    "    i.join()\n",
    "\n"
   ]
  },
  {
   "cell_type": "code",
   "execution_count": null,
   "id": "b4369283",
   "metadata": {},
   "outputs": [
    {
     "name": "stdout",
     "output_type": "stream",
     "text": [
      "CPU times: total: 0 ns\n",
      "Wall time: 0 ns\n"
     ]
    }
   ],
   "source": [
    "%%time\n",
    "import concurrent.futures as cf\n",
    "\n",
    "def read_class_data(path_array, class_num):\n",
    "    arr = np.zeros((len(path_array), 143), dtype=np.float64)\n",
    "    with cf.ThreadPoolExecutor(max_workers=30) as executor:\n",
    "        results = executor.map(get_features, path_array)\n",
    "\n",
    "    for i, result in enumerate(results):\n",
    "        arr[i] = result\n",
    "    \n",
    "    class_label = np.array([class_num] * len(path_array))\n",
    "    return arr, class_label\n",
    "\n",
    "def save_npy(arr, class_label, class_name):\n",
    "    np.save(f\"./npy_data/{class_name}_data.npy\", arr)\n",
    "    np.save(f\"./npy_data/{class_name}_label.npy\", class_label)"
   ]
  },
  {
   "cell_type": "code",
   "execution_count": null,
   "id": "d039c4f1",
   "metadata": {},
   "outputs": [],
   "source": [
    "dataset = read_ocvs_data(r\"datasets/OCVS\")\n",
    "class_num =[i for i in range(len(dataset.keys()))]\n",
    "for i in class_num:\n",
    "    for class_name, path_arr in dataset.items():\n",
    "        arr, class_label = read_class_data(path_arr, i)\n",
    "        save_npy(arr, class_label, class_name)"
   ]
  },
  {
   "cell_type": "code",
   "execution_count": null,
   "id": "0f08f23b",
   "metadata": {},
   "outputs": [],
   "source": []
  }
 ],
 "metadata": {
  "kernelspec": {
   "display_name": "aiastro",
   "language": "python",
   "name": "python3"
  },
  "language_info": {
   "codemirror_mode": {
    "name": "ipython",
    "version": 3
   },
   "file_extension": ".py",
   "mimetype": "text/x-python",
   "name": "python",
   "nbconvert_exporter": "python",
   "pygments_lexer": "ipython3",
   "version": "3.10.13"
  }
 },
 "nbformat": 4,
 "nbformat_minor": 5
}
