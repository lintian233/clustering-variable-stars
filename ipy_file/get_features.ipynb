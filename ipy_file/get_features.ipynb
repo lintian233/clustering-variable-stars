{
 "cells": [
  {
   "cell_type": "code",
   "execution_count": 1,
   "metadata": {},
   "outputs": [],
   "source": [
    "import pandas as pd\n",
    "import matplotlib.pyplot as plt\n",
    "from astropy.timeseries import LombScargle\n",
    "from scipy import signal\n",
    "from astropy.convolution import convolve, Gaussian1DKernel\n",
    "from scipy.signal import find_peaks\n",
    "import numpy as np\n",
    "from scipy.signal import correlate"
   ]
  },
  {
   "cell_type": "code",
   "execution_count": 87,
   "metadata": {},
   "outputs": [],
   "source": [
    "class OlgeFeatures:\n",
    "    def __init__(self,path) -> None:\n",
    "        self.file_path = path\n",
    "        self.bin_index = None\n",
    "        self.time = None\n",
    "        self.mag = None\n",
    "        self.frequency = np.linspace(0.0003, 24, 800000)\n",
    "        self.power = None\n",
    "        self.peaks = None\n",
    "        self.features = None\n",
    "\n",
    "    def init(self):\n",
    "        self.time, self.mag = self._read_table()\n",
    "        self.power = self._lomb_scargle()\n",
    "        self._allis_filter()\n",
    "        freq_index = self._get_indexof_log_span(self.frequency,10)\n",
    "        freq_index.insert(0, 0)\n",
    "        self.peaks = self._find_peak_of_index(self.power,freq_index)\n",
    "        self.bin_index = self._bin_split()\n",
    "        self.features = self._generate_features_90()\n",
    "\n",
    "        return self.features\n",
    "    \n",
    "    def _read_table(self):\n",
    "        data = pd.read_table(self.file_path,sep='\\\\s+',names=['time','mag','err'])\n",
    "        return data.iloc[:,0],data.iloc[:,1]\n",
    "\n",
    "    def _lomb_scargle(self):\n",
    "        return LombScargle(self.time, self.mag).power(self.frequency)\n",
    "\n",
    "    def _find_first_greater(self, array, value):\n",
    "        left = 0\n",
    "        right = len(array) - 1\n",
    "        while left <= right:\n",
    "            mid = (left + right) // 2\n",
    "            if array[mid] <= value:\n",
    "                left = mid + 1\n",
    "            else:\n",
    "                right = mid - 1\n",
    "        return left\n",
    "        \n",
    "    def _allis_filter(self):\n",
    "        pass\n",
    "\n",
    "    def _get_indexof_log_span(self, data, bin):\n",
    "        log_end = np.log10(data[-1] - data[1000])\n",
    "        log_start =np.log10(data[1000])\n",
    "        log_step = (log_end - log_start) / bin\n",
    "\n",
    "        value_arr = np.array([(10 ** (log_start + i * log_step)) for i in range(1,bin + 1)])\n",
    "        index_arr = []\n",
    "        \n",
    "        for i in value_arr:\n",
    "            index_arr.append(self._find_first_greater(data,i))\n",
    "        return index_arr\n",
    "    \n",
    "    def _find_peak_of_index(self,data, index_arr): \n",
    "        peaks = np.array([])\n",
    "        for i in range(len(index_arr) - 1):\n",
    "            start = index_arr[i]\n",
    "            end = index_arr[i + 1]\n",
    "            peak,_ = find_peaks(data[start:end],distance=(end - start) ** 0.5)\n",
    "            peak += start\n",
    "            peaks = np.concatenate((peaks,peak))\n",
    "        return peaks\n",
    "    \n",
    "    def _bin_split(self):\n",
    "        freq_idx_1 = self._find_first_greater(self.frequency, 1)\n",
    "        index_of_1_log_arr = self._get_indexof_log_span(self.frequency[0:freq_idx_1], 7)\n",
    "        index_of_1_log_arr.insert(0, 0)\n",
    "        index_of_1_log_arr = np.array(index_of_1_log_arr)\n",
    "        index_freq_1dot5_to_24 = self._find_first_greater(self.frequency, 1.5)\n",
    "        index_of_arr = np.linspace(index_freq_1dot5_to_24,len(self.frequency), 11)\n",
    "        index_of_arr = np.int_(index_of_arr)\n",
    "        return np.concatenate((index_of_1_log_arr,index_of_arr))\n",
    "        \n",
    "\n",
    "    def _normalized_iqr(self,array):\n",
    "        q1 = np.percentile(array, 25)\n",
    "        q3 = np.percentile(array, 75)\n",
    "        iqr = q1 - q3\n",
    "        med = np.median(array)\n",
    "        normalized_arr = (array - med) / iqr\n",
    "        return normalized_arr\n",
    "    \n",
    "    def _generate_features_90(self):\n",
    "        featrues = np.zeros(90,dtype=np.float64)        \n",
    "        f_idx = 0\n",
    "        bins_idx = self.bin_index\n",
    "        peaks = self.peaks\n",
    "        power = self.power\n",
    "\n",
    "        for i in range(len(bins_idx) - 1):\n",
    "            current_peak = np.int_(peaks[(peaks > bins_idx[i]) & (peaks < bins_idx[i + 1])])\n",
    "            current_power = power[current_peak]\n",
    "            current_power = np.sort(np.log(current_power))[::-1][:5]\n",
    "            current_power = self._normalized_iqr(current_power)\n",
    "            featrues[f_idx:f_idx + len(current_power)] = current_power\n",
    "            f_idx += len(current_power)\n",
    "        return featrues"
   ]
  },
  {
   "cell_type": "code",
   "execution_count": 92,
   "metadata": {},
   "outputs": [
    {
     "data": {
      "text/plain": [
       "array([ -0.66515967,  -0.24411344,  -0.        ,   0.75588656,\n",
       "         0.7642123 ,  -0.75443221,  -0.68601183,  -0.        ,\n",
       "         0.31398817,   0.51465888,  -2.97492611,  -0.76965903,\n",
       "        -0.        ,   0.23034097,   0.80400632, -20.81309047,\n",
       "        -0.82195859,  -0.        ,   0.17804141,   1.43892843,\n",
       "        -0.49699125,  -0.4825081 ,  -0.        ,   0.5174919 ,\n",
       "         1.28745123,  -7.95084533,  -0.70530063,  -0.        ,\n",
       "         0.29469937,   1.97753636,  -1.67120792,  -0.04296241,\n",
       "        -0.        ,   0.95703759,   2.74974036,  -1.10019643,\n",
       "        -0.92446915,  -0.        ,   0.07553085,   0.10543402,\n",
       "        -3.03034453,  -0.77671354,  -0.        ,   0.22328646,\n",
       "         0.43800372,  -2.82045157,  -0.13701222,  -0.        ,\n",
       "         0.86298778,   2.88210168,  -1.66958436,  -0.83836515,\n",
       "        -0.        ,   0.16163485,   0.20581882,  -1.21771016,\n",
       "        -0.29759438,  -0.        ,   0.70240562,   1.15348756,\n",
       "        -0.8545871 ,  -0.84907916,  -0.        ,   0.15092084,\n",
       "         0.32733308,  -1.28414578,  -0.36549329,  -0.        ,\n",
       "         0.63450671,   1.3334914 ,  -0.16058111,  -0.12403181,\n",
       "        -0.        ,   0.87596819,   1.13540015,  -1.02422495,\n",
       "        -0.97722717,  -0.        ,   0.02277283,   0.29763558,\n",
       "        -4.5643514 ,  -0.17678012,  -0.        ,   0.82321988,\n",
       "         3.07517145,  -2.27647022,  -0.93111361,  -0.        ,\n",
       "         0.06888639,   0.1055189 ])"
      ]
     },
     "execution_count": 92,
     "metadata": {},
     "output_type": "execute_result"
    }
   ],
   "source": [
    "fe = OlgeFeatures(r\"../datasets\\OCVS\\ECL\\C\\I\\OGLE-BLG-ECL-000002.dat\")\n",
    "fe.init()\n",
    "#The first 5 maximums of the log-power for each the 18 bins\n",
    "#每个18个bin的对数功率的前5个最大值\n",
    "fe.features"
   ]
  },
  {
   "cell_type": "code",
   "execution_count": 93,
   "metadata": {},
   "outputs": [
    {
     "name": "stdout",
     "output_type": "stream",
     "text": [
      "mag    194.999428\n",
      "dtype: float64\n"
     ]
    }
   ],
   "source": [
    "#light curve fetures\n",
    "import statsmodels.api as sm\n",
    "from statsmodels import robust\n",
    "import statsmodels.stats.stattools as stats\n",
    "\n",
    "time,mag = fe.time,fe.mag\n",
    "# 使用HuberT函数拟合模型\n",
    "rlm_model = sm.RLM(time, mag, M=sm.robust.norms.HuberT())\n",
    "\n",
    "# 拟合模型并打印参数\n",
    "rlm_results = rlm_model.fit()\n",
    "hubermean = rlm_results.params\n",
    "print(hubermean)"
   ]
  },
  {
   "cell_type": "code",
   "execution_count": 94,
   "metadata": {},
   "outputs": [
    {
     "data": {
      "image/png": "[encoded data removed]",
      "text/plain": [
       "<Figure size 640x480 with 1 Axes>"
      ]
     },
     "metadata": {},
     "output_type": "display_data"
    },
    {
     "data": {
      "text/plain": [
       "[<matplotlib.lines.Line2D at 0x238c8f45de0>]"
      ]
     },
     "execution_count": 94,
     "metadata": {},
     "output_type": "execute_result"
    },
    {
     "data": {
      "image/png": "[encoded data removed]",
      "text/plain": [
       "<Figure size 640x480 with 1 Axes>"
      ]
     },
     "metadata": {},
     "output_type": "display_data"
    }
   ],
   "source": [
    "time,mag = fe.time,fe.mag\n",
    "power = fe.power\n",
    "frq = fe.frequency\n",
    "import seaborn as sns\n",
    "sns.scatterplot(x=time,y=mag,s=5,color='black')\n",
    "plt.title(\"OGLE-BLG-LPV-000161-lightcurve\")\n",
    "plt.show()\n",
    "\n",
    "\n",
    "\n",
    "def read_table(file_path):\n",
    "    data = pd.read_table(file_path,sep='\\\\s+',names=['time','mag','err'])\n",
    "    return data\n",
    "\n",
    "data = read_table(r\"../datasets\\OCVS\\CEP\\T2\\I\\OGLE-BLG-T2CEP-006.dat\")\n",
    "data.head(10)\n",
    "\n",
    "#sns.pointplot(x=fe.frequency,y=fe.power,s=3,color='black')\n",
    "plt.plot(frq,power,color='black',linewidth=0.2)"
   ]
  },
  {
   "cell_type": "code",
   "execution_count": 95,
   "metadata": {},
   "outputs": [
    {
     "name": "stdout",
     "output_type": "stream",
     "text": [
      "MAD of mag:0.7309228937232648\n"
     ]
    }
   ],
   "source": [
    "#MAD\n",
    "mad = robust.mad(mag)\n",
    "print(\"MAD of mag:{}\".format(mad))"
   ]
  },
  {
   "cell_type": "code",
   "execution_count": 96,
   "metadata": {},
   "outputs": [
    {
     "name": "stdout",
     "output_type": "stream",
     "text": [
      "IQR:1.0732500000000016\n"
     ]
    }
   ],
   "source": [
    "#IQR\n",
    "mag_sort = np.sort(mag)\n",
    "q1 = np.percentile(mag_sort, 25)\n",
    "q3 = np.percentile(mag_sort, 75)\n",
    "iqr = q3 - q1\n",
    "print(\"IQR:{}\".format(iqr))\n"
   ]
  },
  {
   "cell_type": "code",
   "execution_count": 97,
   "metadata": {},
   "outputs": [
    {
     "name": "stdout",
     "output_type": "stream",
     "text": [
      "RobustMeanVariance:mag    0.005504\n",
      "dtype: float64\n"
     ]
    }
   ],
   "source": [
    "#IQR / huber_mean\n",
    "ratio = iqr /  hubermean\n",
    "print(\"RobustMeanVariance:{}\".format(ratio))\n"
   ]
  },
  {
   "cell_type": "code",
   "execution_count": 98,
   "metadata": {},
   "outputs": [
    {
     "name": "stdout",
     "output_type": "stream",
     "text": [
      "Amplitude:2.3305000000000007\n"
     ]
    }
   ],
   "source": [
    "#The median of the magnitudes over the 95th percentile minus \n",
    "#the median of the magnitudes under the 5th percentile\n",
    "\n",
    "mag_95 = np.percentile(mag, 95)\n",
    "mag_5 = np.percentile(mag, 5)\n",
    "median_95 = np.median(mag[mag > mag_95])\n",
    "median_5 = np.median(mag[mag < mag_5])\n",
    "Amplitude = median_95 - median_5\n",
    "print(\"Amplitude:{}\".format(Amplitude))\n",
    "\n"
   ]
  },
  {
   "cell_type": "code",
   "execution_count": 99,
   "metadata": {},
   "outputs": [
    {
     "name": "stdout",
     "output_type": "stream",
     "text": [
      "cumsum_mag_range:1418.0890000000009\n",
      "spec_cumsum_mag_range:0.3257814627314251\n"
     ]
    }
   ],
   "source": [
    "#Range of a cumulative sum of the magnitudes\n",
    "#https://ui.adsabs.harvard.edu/abs/2014A%26A...566A..43K/abstract\n",
    "cumsum_mag = np.cumsum(mag)\n",
    "cumsum_mag_range = np.ptp(cumsum_mag)\n",
    "print(\"cumsum_mag_range:{}\".format(cumsum_mag_range))\n",
    "def spec_cumsum(x):\n",
    "    return np.cumsum((x - np.mean(x)) / (np.std(x) * len(x)))\n",
    "\n",
    "spec_cumsum_mag = spec_cumsum(mag)\n",
    "spec_cumsum_mag_range = np.ptp(spec_cumsum_mag)\n",
    "print(\"spec_cumsum_mag_range:{}\".format(spec_cumsum_mag_range))"
   ]
  },
  {
   "cell_type": "code",
   "execution_count": 100,
   "metadata": {},
   "outputs": [
    {
     "name": "stdout",
     "output_type": "stream",
     "text": [
      "percentage_beyond_sigma:37.96296296296296\n"
     ]
    }
   ],
   "source": [
    "#Percentage of points beyond 1𝜎 from the weighted mean\n",
    "def percentage_beyond_sigma(data, weights):\n",
    "    # 计算加权平均值\n",
    "    weighted_mean = np.average(data, weights=weights)\n",
    "    # 计算标准差\n",
    "    std_dev = np.sqrt(np.average((data - weighted_mean)**2, weights=weights))\n",
    "    \n",
    "    # 计算超出1𝜎的点的数量\n",
    "    beyond_sigma = np.sum(np.abs(data - weighted_mean) > std_dev)\n",
    "    \n",
    "    # 计算超出1𝜎的点的百分比\n",
    "    percentage = beyond_sigma / len(data) * 100\n",
    "    \n",
    "    return percentage\n",
    "w = None\n",
    "percentage = percentage_beyond_sigma(mag, w)\n",
    "print(\"percentage_beyond_sigma:{}\".format(percentage))\n"
   ]
  },
  {
   "cell_type": "code",
   "execution_count": 101,
   "metadata": {},
   "outputs": [
    {
     "name": "stdout",
     "output_type": "stream",
     "text": [
      "mag_median_range_count:31\n",
      "mag_median_range_fraction:0.28703703703703703\n"
     ]
    }
   ],
   "source": [
    "#Fraction of points within a tenth of the magnitude range of the median magnitude\n",
    "#在中位数范围的十分之一的点的星等百分比\n",
    "mag_sort = np.sort(mag)\n",
    "mag_range = np.ptp(mag_sort)\n",
    "mag_median = np.median(mag_sort)\n",
    "mag_range_tenth = mag_range / 10\n",
    "mag_median_range = mag_median + mag_range_tenth\n",
    "mag_median_range_count = np.sum((mag_sort > mag_median - mag_range_tenth) & (mag_sort < mag_median_range))\n",
    "print(\"mag_median_range_count:{}\".format(mag_median_range_count))\n",
    "mag_median_range_fraction = mag_median_range_count / len(mag_sort)\n",
    "print(\"mag_median_range_fraction:{}\".format(mag_median_range_fraction))\n"
   ]
  },
  {
   "cell_type": "code",
   "execution_count": 102,
   "metadata": {},
   "outputs": [
    {
     "name": "stdout",
     "output_type": "stream",
     "text": [
      "largest_percentage_difference:11.367639893557206\n"
     ]
    }
   ],
   "source": [
    "#Largest percentage difference between either \n",
    "#the maximum or minimum magnitude and the median\n",
    "#最大或最小星等与中位数之间的最大百分比差异\n",
    "def largest_percentage_difference(arr):\n",
    "    median = np.median(arr)  \n",
    "    max_val = np.max(arr)  \n",
    "    min_val = np.min(arr)  \n",
    "\n",
    "    diff1 = abs(max_val - median) / median * 100  \n",
    "    diff2 = abs(min_val - median) / median * 100  \n",
    "\n",
    "    return max(diff1, diff2) \n",
    "\n",
    "largest_percentage_difference = largest_percentage_difference(mag)\n",
    "print(\"largest_percentage_difference:{}\".format(largest_percentage_difference))\n"
   ]
  },
  {
   "cell_type": "code",
   "execution_count": 103,
   "metadata": {},
   "outputs": [
    {
     "name": "stdout",
     "output_type": "stream",
     "text": [
      "mag_3rd_fraction:0.0\n"
     ]
    }
   ],
   "source": [
    "#The fraction of points over the 3rd quartile plus 1.5 times \n",
    "#the interquartile range of the magnitude\n",
    "#星等的四分位数加上1.5倍的四分位数范围的点的星等百分比\n",
    "#this work\n",
    "mag_sort = np.sort(mag)\n",
    "q3 = np.percentile(mag_sort, 75)\n",
    "q1 = np.percentile(mag_sort, 25)\n",
    "iqr = q3 - q1\n",
    "mag_3rd = q3 + 1.5 * iqr\n",
    "mag_3rd_count = np.sum(mag_sort > mag_3rd)\n",
    "mag_3rd_fraction = mag_3rd_count / len(mag_sort)\n",
    "print(\"mag_3rd_fraction:{}\".format(mag_3rd_fraction))\n"
   ]
  },
  {
   "cell_type": "code",
   "execution_count": 104,
   "metadata": {},
   "outputs": [
    {
     "name": "stdout",
     "output_type": "stream",
     "text": [
      "median_based_skew:-0.38065676206921967\n"
     ]
    }
   ],
   "source": [
    "#Median based measure of the skew\n",
    "#基于中位数的偏度测量\n",
    "def median_based_skew(arr):\n",
    "    median = np.median(arr)\n",
    "    mean = np.mean(arr)\n",
    "    std = np.std(arr)\n",
    "    skew = 3 * (mean - median) / std\n",
    "    return skew\n",
    "\n",
    "median_based_skew = median_based_skew(mag)\n",
    "print(\"median_based_skew:{}\".format(median_based_skew))\n"
   ]
  },
  {
   "cell_type": "code",
   "execution_count": 105,
   "metadata": {},
   "outputs": [
    {
     "name": "stdout",
     "output_type": "stream",
     "text": [
      "flux_percentile_ratio_mid20:0.11741971105180832\n",
      "flux_percentile_ratio_mid35:0.28386399190208844\n",
      "flux_percentile_ratio_mid50:0.493811539523328\n",
      "flux_percentile_ratio_mid65:0.6280597220944145\n"
     ]
    }
   ],
   "source": [
    "#Flux Percentile Ratio Mid-20: Sorted flux percentile ratio 𝐹40,60/𝐹5,95\n",
    "#Flux Percentile Ratio Mid-35: Sorted flux percentile ratio 𝐹32.5,67.5/𝐹5,95\n",
    "#Flux Percentile Ratio Mid-50: Sorted flux percentile ratio 𝐹25,75/𝐹5,95\n",
    "#Flux Percentile Ratio Mid-65: Sorted flux percentile ratio 𝐹17.5,82.5/𝐹5,95\n",
    "#Flux Percentile Ratio Mid-80: Sorted flux percentile ratio 𝐹10,90/𝐹5,95\n",
    "\n",
    "def flux_percentile_ratio_mid20(arr):\n",
    "    arr_sort = np.sort(arr)\n",
    "    arr_5 = np.percentile(arr_sort, 5)\n",
    "    arr_95 = np.percentile(arr_sort, 95)\n",
    "    arr_40 = np.percentile(arr_sort, 40)\n",
    "    arr_60 = np.percentile(arr_sort, 60)\n",
    "    return (arr_40 - arr_60) / (arr_5 - arr_95)\n",
    "\n",
    "def flux_percentile_ratio_mid35(arr):\n",
    "    arr_sort = np.sort(arr)\n",
    "    arr_5 = np.percentile(arr_sort, 5)\n",
    "    arr_95 = np.percentile(arr_sort, 95)\n",
    "    arr_32_5 = np.percentile(arr_sort, 32.5)\n",
    "    arr_67_5 = np.percentile(arr_sort, 67.5)\n",
    "    return (arr_32_5 - arr_67_5) / (arr_5 - arr_95)\n",
    "\n",
    "def flux_percentile_ratio_mid50(arr):\n",
    "    arr_sort = np.sort(arr)\n",
    "    arr_5 = np.percentile(arr_sort, 5)\n",
    "    arr_95 = np.percentile(arr_sort, 95)\n",
    "    arr_25 = np.percentile(arr_sort, 25)\n",
    "    arr_75 = np.percentile(arr_sort, 75)\n",
    "    return (arr_25 - arr_75) / (arr_5 - arr_95)\n",
    "\n",
    "def flux_percentile_ratio_mid65(arr):\n",
    "    arr_sort = np.sort(arr)\n",
    "    arr_5 = np.percentile(arr_sort, 5)\n",
    "    arr_95 = np.percentile(arr_sort, 95)\n",
    "    arr_17_5 = np.percentile(arr_sort, 17.5)\n",
    "    arr_82_5 = np.percentile(arr_sort, 82.5)\n",
    "    return (arr_17_5 - arr_82_5) / (arr_5 - arr_95)\n",
    "\n",
    "def flux_percentile_ratio_mid80(arr):\n",
    "    arr_sort = np.sort(arr)\n",
    "    arr_5 = np.percentile(arr_sort, 5)\n",
    "    arr_95 = np.percentile(arr_sort, 95)\n",
    "    arr_10 = np.percentile(arr_sort, 10)\n",
    "    arr_90 = np.percentile(arr_sort, 90)\n",
    "    return (arr_10 - arr_90) / (arr_5 - arr_95)\n",
    "\n",
    "flux_percentile_ratio_mid20 = flux_percentile_ratio_mid20(mag)\n",
    "flux_percentile_ratio_mid35 = flux_percentile_ratio_mid35(mag)\n",
    "flux_percentile_ratio_mid50 = flux_percentile_ratio_mid50(mag)\n",
    "flux_percentile_ratio_mid65 = flux_percentile_ratio_mid65(mag)\n",
    "flux_percentile_ratio_mid80 = flux_percentile_ratio_mid80(mag)\n",
    "\n",
    "print(\"flux_percentile_ratio_mid20:{}\".format(flux_percentile_ratio_mid20))\n",
    "print(\"flux_percentile_ratio_mid35:{}\".format(flux_percentile_ratio_mid35))\n",
    "print(\"flux_percentile_ratio_mid50:{}\".format(flux_percentile_ratio_mid50))\n",
    "print(\"flux_percentile_ratio_mid65:{}\".format(flux_percentile_ratio_mid65))\n"
   ]
  },
  {
   "cell_type": "code",
   "execution_count": 106,
   "metadata": {},
   "outputs": [
    {
     "name": "stdout",
     "output_type": "stream",
     "text": [
      "flux_ratio:0.1629174318803644\n"
     ]
    }
   ],
   "source": [
    "#Ratio of 𝐹5,95 over the median magnitude\n",
    "#星等的中位数的𝐹5,95比率\n",
    "mag_sort = np.sort(mag)\n",
    "mag_5 = np.percentile(mag_sort, 5)\n",
    "mag_95 = np.percentile(mag_sort, 95)\n",
    "mag_median = np.median(mag_sort)\n",
    "flux_ratio = (mag_95 - mag_5) / mag_median\n",
    "print(\"flux_ratio:{}\".format(flux_ratio))\n"
   ]
  },
  {
   "cell_type": "code",
   "execution_count": 107,
   "metadata": {},
   "outputs": [
    {
     "name": "stdout",
     "output_type": "stream",
     "text": [
      "robust_kurtosis:-0.6900321795094069\n"
     ]
    }
   ],
   "source": [
    "#Robust kurtosis measure based on Stetson variability index\n",
    "#基于Stetson可变性指数的健壮峰度测量\n",
    "\n",
    "robust_kurtosis = stats.robust_kurtosis(mag)[0]\n",
    "# kurtosis_measures是一个包含四个峰度测量值的元组：\n",
    "# kr1: 标准峰度估计器\n",
    "# kr2: 基于八分位数的峰度估计器\n",
    "# kr3: 基于超过期望值的峰度估计器\n",
    "# kr4: 基于高低分位数之间的差距的峰度测量\n",
    "print(\"robust_kurtosis:{}\".format(robust_kurtosis))\n"
   ]
  },
  {
   "cell_type": "code",
   "execution_count": 108,
   "metadata": {},
   "outputs": [
    {
     "name": "stdout",
     "output_type": "stream",
     "text": [
      "robust_skewness:-0.1008618681574638\n"
     ]
    }
   ],
   "source": [
    "#Robust measure of skewness\n",
    "#健壮偏度测量\n",
    "robust_skewness = stats.robust_skewness(mag)[1]\n",
    "##https://www.statsmodels.org/stable/generated/statsmodels.stats.stattools.robust_skewness.html\n",
    "print(\"robust_skewness:{}\".format(robust_skewness))\n"
   ]
  },
  {
   "cell_type": "code",
   "execution_count": 109,
   "metadata": {},
   "outputs": [],
   "source": [
    "#Robust measure of the left tail weight\n",
    "#健壮左尾重量测量ROW\n",
    "#Robust measure of the right tail weight\n",
    "#健壮右尾重量测量ROW\n"
   ]
  },
  {
   "cell_type": "code",
   "execution_count": 110,
   "metadata": {},
   "outputs": [
    {
     "name": "stdout",
     "output_type": "stream",
     "text": [
      "robust_kurtosis_excess:-0.44650763686300676\n"
     ]
    }
   ],
   "source": [
    "#Robust measure of kurtosis based on on exceedance expectations\n",
    "#基于超出期望值的健壮峰度测量\n",
    "robust_kurtosis_excess = stats.robust_kurtosis(mag)[2]\n",
    "print(\"robust_kurtosis_excess:{}\".format(robust_kurtosis_excess))\n"
   ]
  },
  {
   "cell_type": "code",
   "execution_count": 111,
   "metadata": {},
   "outputs": [
    {
     "name": "stdout",
     "output_type": "stream",
     "text": [
      "abbe_all: 0.09232184780556137\n",
      "excess_abbe_50: -0.038229531529163245\n"
     ]
    }
   ],
   "source": [
    "#Estimation of the regularity of the light curve variability pattern for window size 50 days\n",
    "#估计窗口大小为50天的光曲线变化模式的规律性\n",
    "#Excess Abbe Value 𝑇sub = 50 d/ 100 d/ 250 d\n",
    "#https://arxiv.org/abs/1406.7785v1\n",
    "def abbe(y):\n",
    "    n = len(y)\n",
    "    y_bar = np.mean(y)\n",
    "    sum_diff_sq = np.sum(np.diff(y)**2)\n",
    "    sum_var_sq = np.sum((y - y_bar)**2)\n",
    "    A = (n / ( 2 * ( n - 1 ))) * (sum_diff_sq / sum_var_sq)\n",
    "    \n",
    "    return A\n",
    "\n",
    "abbe_all = abbe(mag)\n",
    "print(\"abbe_all: {}\".format(abbe_all))\n",
    "\n",
    "def excess_abbe(x,y, window_size):\n",
    "    first = np.where(x >= x[0] + 0.5 * window_size)[0][0]\n",
    "    end = np.where(x <= x[len(x) - 1] - 0.5 * window_size)[0][-1]\n",
    "    abbe_value = np.zeros(end - first + 1)\n",
    "    for i in range(first, end):\n",
    "        indexes = np.where((x > x[i] - 0.5 * window_size) & (x < x[i] + 0.5 * window_size))\n",
    "        if(len(indexes[0]) < 5):\n",
    "            continue    \n",
    "        y_window = y[indexes[0]]\n",
    "        abbe_value[i - first] = abbe(y_window)\n",
    "    ab_remove_zero = abbe_value[abbe_value != 0]\n",
    "    abbe_mean = np.mean(ab_remove_zero)\n",
    "    return abbe_mean - abbe(y)\n",
    "\n",
    "excess_abbe_50 = excess_abbe(time,mag,100)\n",
    "print(\"excess_abbe_50: {}\".format(excess_abbe_50))\n",
    "\n",
    "#excess_abbe_100 = excess_abbe(time,mag,100)\n",
    "#print(\"excess_abbe_100: {}\".format(excess_abbe_100))\n",
    "\n",
    "#excess_abbe_250 = excess_abbe(time,mag,250)\n",
    "#print(\"excess_abbe_250: {}\".format(excess_abbe_250))"
   ]
  },
  {
   "cell_type": "code",
   "execution_count": 112,
   "metadata": {},
   "outputs": [
    {
     "name": "stdout",
     "output_type": "stream",
     "text": [
      "50.0\n"
     ]
    }
   ],
   "source": [
    "from jdcal import jd2gcal, gcal2jd  \n",
    "\n",
    "from datetime import datetime, timedelta\n",
    "# 计算当前日期\n",
    "current_date = datetime.now()\n",
    "# 计算目标日期\n",
    "target_date = current_date + timedelta(days=50)\n",
    "# 计算日期差\n",
    "date_diff = target_date - current_date\n",
    "# 将MJD日期转换为Gregorian日期\n",
    "mjdt = gcal2jd(target_date.year, target_date.month, target_date.day)[1]\n",
    "mjds = gcal2jd(current_date.year, current_date.month, current_date.day)[1]\n",
    "print(mjdt - mjds)"
   ]
  },
  {
   "cell_type": "code",
   "execution_count": 113,
   "metadata": {},
   "outputs": [
    {
     "name": "stdout",
     "output_type": "stream",
     "text": [
      "abbe: 0.09232184780556137\n"
     ]
    }
   ],
   "source": [
    "#Measure of the smoothness of the light curve\n",
    "#光曲线平滑度的度量\n",
    "abbe_lc = abbe(mag)\n",
    "print(\"abbe: {}\".format(abbe_lc))"
   ]
  },
  {
   "cell_type": "code",
   "execution_count": 114,
   "metadata": {},
   "outputs": [
    {
     "name": "stdout",
     "output_type": "stream",
     "text": [
      "autocorr:108\n"
     ]
    }
   ],
   "source": [
    "#Robust autocorrelation function length for irregular time series\n",
    "#不规则时间序列的健壮自相关函数长度\n",
    "#https://arxiv.org/abs/1212.2398\n",
    "#Slotted autocorrelation function length\n",
    "#槽自相关函数长度\n",
    "\n",
    "def autocorrelation(x):\n",
    "    result = correlate(x, x, mode='full')\n",
    "    return result[result.size // 2:]\n",
    "\n",
    "\n",
    "#另外一种计算方法\n",
    "autocorr = sm.tsa.acf(mag, nlags=len(mag))\n",
    "print(\"autocorr:{}\".format(len(autocorr)))"
   ]
  },
  {
   "cell_type": "code",
   "execution_count": 115,
   "metadata": {},
   "outputs": [
    {
     "name": "stdout",
     "output_type": "stream",
     "text": [
      "stetson_k_mag:0.8204809044078888\n",
      "stetson_k_autocorr:0.7109565618014586\n"
     ]
    }
   ],
   "source": [
    "#Stetson𝐾 applied over the slotted autocorrelation function\n",
    "#应用于槽自相关函数的Stetson𝐾\n",
    "#https://iopscience.iop.org/article/10.1086/133808\n",
    "def stetson_k(y):\n",
    "    N = len(y)\n",
    "    sigma = ( ( N / (N - 1) ) ** 0.5 ) * ( y - np.mean(y) ) / np.std(y)\n",
    "    K = ( 1 / N ) * np.sum(np.abs(sigma)) / ( ( 1 / N ) * np.sum( sigma ** 2 ) ) ** 0.5\n",
    "    return K\n",
    "\n",
    "stetson_k_mag = stetson_k(mag)\n",
    "stetson_k_autocorr = stetson_k(autocorr)\n",
    "print(\"stetson_k_mag:{}\".format(stetson_k_mag))\n",
    "print(\"stetson_k_autocorr:{}\".format(stetson_k_autocorr))"
   ]
  },
  {
   "cell_type": "code",
   "execution_count": 116,
   "metadata": {},
   "outputs": [],
   "source": [
    "#Quality of fit 𝜒2QSO/𝜈 for a quasar-like source, assuming 𝑚𝑎𝑔 = 19\n",
    "#质量拟合𝜒2QSO/𝜈为类星体源，假设𝑚𝑎𝑔 = 19\n",
    "#https://ui.adsabs.harvard.edu/abs/2011AJ....141...93B/abstract\n",
    "# --------不懂\n",
    "    "
   ]
  },
  {
   "cell_type": "code",
   "execution_count": 117,
   "metadata": {},
   "outputs": [],
   "source": [
    "#Natural logarithm of expected 𝜒2QSO/𝜈 for non-QSO variable\n",
    "#非QSO变量的预期𝜒2QSO/𝜈的自然对数\n",
    "#Base 10 logarithm of the period\n",
    "#--------不懂"
   ]
  },
  {
   "cell_type": "code",
   "execution_count": 118,
   "metadata": {},
   "outputs": [
    {
     "name": "stdout",
     "output_type": "stream",
     "text": [
      "best_f:0.0030599689499611876\n",
      "rcs_phase:1418.0750000000007\n",
      "rcs_phase_spec:0.4095415790964171\n"
     ]
    },
    {
     "data": {
      "image/png": "[encoded data removed]",
      "text/plain": [
       "<Figure size 640x480 with 1 Axes>"
      ]
     },
     "metadata": {},
     "output_type": "display_data"
    }
   ],
   "source": [
    "#𝑅CS applied to the phase-folded light curve\n",
    "#应用于相位折叠光曲线的𝑅CS\n",
    "#https://ui.adsabs.harvard.edu/abs/2014A%26A...566A..43K/abstract\n",
    "power = fe.power\n",
    "#找到最大功率的频率\n",
    "best_f = fe.frequency[np.argmax(power)]\n",
    "print(\"best_f:{}\".format(best_f))\n",
    "period = 1 / best_f\n",
    "\n",
    "phase = np.mod(time, period) / period\n",
    "#phase = (time / period) % 1\n",
    "\n",
    "sorted_indices = np.argsort(phase)\n",
    "\n",
    "sorted_phase = phase[sorted_indices]\n",
    "sorted_flux = mag[sorted_indices]\n",
    "\n",
    "\n",
    "plt.scatter(sorted_phase, sorted_flux,s=1,marker='+',linewidths=2,c='black')\n",
    "\n",
    "\n",
    "def spec_cumsum(x):\n",
    "    return np.cumsum((x - np.mean(x)) / (np.std(x) * len(x)))\n",
    "\n",
    "rcs_phase = np.cumsum(sorted_flux)\n",
    "rcs_phase = np.ptp(rcs_phase)\n",
    "print(\"rcs_phase:{}\".format(rcs_phase))\n",
    "\n",
    "rcs_phase_spec = spec_cumsum(sorted_flux)\n",
    "rcs_phase_spec = np.ptp(rcs_phase_spec)\n",
    "print(\"rcs_phase_spec:{}\".format(rcs_phase_spec))\n",
    "\n"
   ]
  },
  {
   "cell_type": "code",
   "execution_count": 119,
   "metadata": {},
   "outputs": [
    {
     "name": "stdout",
     "output_type": "stream",
     "text": [
      "p2p_scatter:0.25557809330628584\n",
      "gama:0.015532262903167178\n"
     ]
    }
   ],
   "source": [
    "#Variability index 𝜂𝑒 applied to the the folded light curve\n",
    "#应用于折叠光曲线的可变性指数𝜂𝑒\n",
    "#https://arxiv.org/abs/1101.2406\n",
    "#P2p scatter: P/raw : median of the absolute values of the differences\n",
    "#etween successive magnitudes in the folded light curve normalized by the Median \n",
    "#Absolute Deviation (MAD) around the median of the raw light curve.\n",
    "#P2p scatter: P/raw : 折叠光曲线中连续幅度之间的差值的绝对值的中位数，\n",
    "#归一化为原始光曲线的中位数绝对偏差（MAD）。\n",
    "def calculate_median_of_differences(folded_curve):\n",
    "    # 计算连续幅度之间的差值\n",
    "    differences = np.diff(folded_curve)\n",
    "    \n",
    "    # 计算差值的绝对值\n",
    "    absolute_differences = np.abs(differences)\n",
    "    \n",
    "    # 计算差值的中位数\n",
    "    median_of_differences = np.median(absolute_differences)\n",
    "    \n",
    "    return median_of_differences\n",
    "\n",
    "def normalize_by_mad(raw_curve, folded_curve):\n",
    "    # 计算原始光曲线的中位数\n",
    "    median = np.median(raw_curve)\n",
    "    \n",
    "    # 计算原始光曲线的中位数绝对偏差（MAD）\n",
    "    mad = np.median(np.abs(raw_curve - median))\n",
    "    \n",
    "    # 计算折叠光曲线中连续幅度之间差值的中位数\n",
    "    median_of_differences = calculate_median_of_differences(folded_curve)\n",
    "    \n",
    "    # 归一化为MAD\n",
    "    normalized_median = median_of_differences / mad\n",
    "    \n",
    "    return normalized_median\n",
    "\n",
    "p2p_scatter = normalize_by_mad(mag, sorted_flux)\n",
    "print(\"p2p_scatter:{}\".format(p2p_scatter))\n",
    "\n",
    "\n",
    "#another\n",
    "#https://ui.adsabs.harvard.edu/abs/2014A%26A...566A..43K/abstract\n",
    "def get_gama(x):\n",
    "    N = len(x)\n",
    "    return (1 / (N - 1) * np.std(x) ** 2) * np.sum( np.diff(x) ** 2 )\n",
    "\n",
    "gama = get_gama(sorted_flux)\n",
    "print(\"gama:{}\".format(gama))\n"
   ]
  },
  {
   "cell_type": "code",
   "execution_count": 120,
   "metadata": {},
   "outputs": [
    {
     "name": "stdout",
     "output_type": "stream",
     "text": [
      "[ 8.03773031e-01  1.11565616e-01  7.68801734e-02 -3.49676566e-02\n",
      " -7.16449542e-01 -1.37527400e-01  1.21894370e-02 -5.91197877e-03\n",
      "  1.30906422e+01]\n"
     ]
    }
   ],
   "source": [
    "#Amplitudes of the 𝑗𝑡ℎ harmonic of the 𝑖𝑡ℎ period\n",
    "#https://arxiv.org/abs/1101.2406\n",
    "#𝑖𝑡ℎ 周期的 𝑗𝑡ℎ 谐波的振幅\n",
    "from scipy.optimize import curve_fit\n",
    "best_f = fe.frequency[np.argmax(power)]\n",
    "def harmonic_func(x, a1, a2, a3, a4, b1, b2, b3, b4, b0):\n",
    "    a = np.array([a1, a2, a3, a4])\n",
    "    b = np.array([b1, b2, b3, b4])\n",
    "    y = np.zeros(len(x))\n",
    "    for i in range(4):\n",
    "        y += a[i] * np.sin(2 * np.pi * best_f * (i + 1) * x) + b[i] * np.cos(2 * np.pi * best_f * (i + 1) * x)\n",
    "    y += b0\n",
    "    return y\n",
    "\n",
    "popt, pcov = curve_fit(harmonic_func, time, mag,maxfev = 1000000)\n",
    "print(popt)\n"
   ]
  },
  {
   "cell_type": "code",
   "execution_count": 121,
   "metadata": {},
   "outputs": [
    {
     "data": {
      "text/plain": [
       "[<matplotlib.lines.Line2D at 0x238c0ee1030>]"
      ]
     },
     "execution_count": 121,
     "metadata": {},
     "output_type": "execute_result"
    },
    {
     "data": {
      "image/png": "[encoded data removed]",
      "text/plain": [
       "<Figure size 640x480 with 1 Axes>"
      ]
     },
     "metadata": {},
     "output_type": "display_data"
    }
   ],
   "source": [
    "# 计算拟合曲线的 y 值\n",
    "y_fit = harmonic_func(time, *popt)\n",
    "\n",
    "# 绘制原始数据点\n",
    "plt.scatter(time, mag, label='原始数据', color='black', s=2)\n",
    "# 绘制拟合曲线\n",
    "plt.plot(time, y_fit, label='拟合曲线', color='red')\n"
   ]
  },
  {
   "cell_type": "code",
   "execution_count": 122,
   "metadata": {},
   "outputs": [
    {
     "data": {
      "image/png": "[encoded data removed]",
      "text/plain": [
       "<Figure size 640x480 with 1 Axes>"
      ]
     },
     "metadata": {},
     "output_type": "display_data"
    },
    {
     "data": {
      "image/png": "[encoded data removed]",
      "text/plain": [
       "<Figure size 640x480 with 1 Axes>"
      ]
     },
     "metadata": {},
     "output_type": "display_data"
    }
   ],
   "source": [
    "from scipy.linalg import eigh\n",
    "\n",
    "def whiten(x,y):\n",
    "    # 去中心化\n",
    "    x_ = x - np.mean(x)\n",
    "    y_ = y - np.mean(y)\n",
    "\n",
    "    #尺度标准化\n",
    "    x_ = x_ / np.std(x_)\n",
    "    y_ = y_ / np.std(y_)\n",
    "    \n",
    "    # 计算数据的协方差矩阵\n",
    "    covariance_matrix = np.cov(x_, y_)\n",
    "\n",
    "    # 计算特征值和特征向量\n",
    "    eigenvalues, eigenvectors = eigh(covariance_matrix)\n",
    "\n",
    "    # 计算白化矩阵\n",
    "    whitening_matrix = np.dot(np.dot(eigenvectors, np.diag(1.0 / np.sqrt(eigenvalues))), eigenvectors.T)\n",
    "\n",
    "    # 对原始数据进行白化\n",
    "    whitened_data = np.dot(whitening_matrix, np.vstack((x_, y_)))\n",
    "\n",
    "    # 提取白化后的时间和数据\n",
    "    return whitened_data[0], whitened_data[1]\n",
    "\n",
    "whitened_time, whitened_mag = whiten(time, mag)\n",
    "t = (time - np.mean(time)) / np.std(time)\n",
    "plt.plot(t, whitened_mag, label='白化数据', color='green')\n",
    "plt.show()\n",
    "\n",
    "\n",
    "\"\"\"\n",
    "Next, this curve was subtracted from the time series (prewhitening) and a new Lomb-Scargle \n",
    "periodogram was computed. The same procedure was repeated until three frequencies were found. \n",
    "Finally, the three frequencies were used to make a harmonic best-fit to the \n",
    "original (trend subtracted) time series:\n",
    "\"\"\"\n",
    "\n",
    "y_new = y_fit - whitened_mag\n",
    "plt.plot(time, y_new, color='red')\n",
    "#plt.scatter(time, mag, color='blue',s=0.1)\n",
    "plt.show()\n",
    "\n",
    "new_power_ = LombScargle(time, y_new).power(fe.frequency)\n",
    "#plt.plot(fe.frequency, new_power, label='白化后的周期图', color='green')"
   ]
  },
  {
   "cell_type": "code",
   "execution_count": 123,
   "metadata": {},
   "outputs": [
    {
     "name": "stdout",
     "output_type": "stream",
     "text": [
      "[-254.2389588    87.16442837  -29.44289736    1.72853183 -205.25435798\n",
      "   30.95128053   18.996529     -5.97880639  513.64170032 -202.31952972\n",
      "   72.40817251  -14.21715029  -56.13467826   62.18969495  -33.57216443\n",
      "    8.68414869  174.80777681 -102.11444064   38.45865473   -5.19587143\n",
      " -128.47673235   68.59796703  -48.01915356    8.34945438    3.37245573]\n"
     ]
    },
    {
     "data": {
      "text/plain": [
       "[<matplotlib.lines.Line2D at 0x238da3a2ad0>]"
      ]
     },
     "execution_count": 123,
     "metadata": {},
     "output_type": "execute_result"
    },
    {
     "data": {
      "image/png": "[encoded data removed]",
      "text/plain": [
       "<Figure size 640x480 with 1 Axes>"
      ]
     },
     "metadata": {},
     "output_type": "display_data"
    }
   ],
   "source": [
    "#取前三个最大的频率\n",
    "new_best_f = fe.frequency[np.argsort(new_power_)[-3:]]\n",
    "\n",
    "\n",
    "def best_func(x,*params):\n",
    "    def harmonic_func(x, a1, a2, a3, a4, b1, b2, b3, b4,best_f, b0):\n",
    "        a = np.array([a1, a2, a3, a4])\n",
    "        b = np.array([b1, b2, b3, b4])\n",
    "        y = np.zeros(len(x))\n",
    "        for i in range(4):\n",
    "            y += a[i] * np.sin(2 * np.pi * best_f * (i + 1) * x) + b[i] * np.cos(2 * np.pi * best_f * (i + 1) * x)\n",
    "        y += b0\n",
    "        return y\n",
    "    \n",
    "    a = params[:12]\n",
    "    b = params[12:24]\n",
    "    b0 = params[24]\n",
    "    y = np.zeros(len(x))\n",
    "    for i in range(3):\n",
    "        ai = a[i * 4: i * 4 + 4]\n",
    "        bi = b[i * 4: i * 4 + 4]\n",
    "        y += harmonic_func(x, *ai, *bi, new_best_f[i], b0)\n",
    "    return y + b0\n",
    "\n",
    "\n",
    "init_params = np.zeros(25)\n",
    "new_popt, new_pcov = curve_fit(best_func, time, mag,maxfev = 1000000, p0=init_params)\n",
    "print(new_popt)\n",
    "\n",
    "plt.scatter(time, mag, label='原始数据', color='blue')\n",
    "# 绘制拟合曲线\n",
    "plt.plot(time, best_func(time, *new_popt), label='拟合曲线', color='red')\n"
   ]
  },
  {
   "cell_type": "code",
   "execution_count": 124,
   "metadata": {},
   "outputs": [
    {
     "name": "stdout",
     "output_type": "stream",
     "text": [
      "Ampij:[573.11887465 220.29713951  78.16538652  14.32184292 212.79204302\n",
      "  69.4661063   38.57406302  10.54327104]\n",
      "logR11:[-0.41523585 -0.86523023 -1.60224581]\n",
      "logR21:[-0.48618243 -0.74166    -1.30498001]\n",
      "PHij:[ 2.03041454 -1.16400173  1.95699993 -1.44980938 -2.87463234  1.10899725\n",
      " -1.05587203  2.17374443]\n"
     ]
    }
   ],
   "source": [
    "#Amplitudes of the 𝑗𝑡ℎ harmonic of the 𝑖𝑡ℎ period\n",
    "#𝑖𝑡ℎ 周期的 𝑗𝑡ℎ 谐波的振幅\n",
    "#https://arxiv.org/abs/1101.2406\n",
    "Ampij = (new_popt[:8] ** 2 + new_popt[8:16] ** 2) ** 0.5\n",
    "print(\"Ampij:{}\".format(Ampij))\n",
    "#Logarithm in base 10 of the amplitude ratios of the \n",
    "#𝑗𝑡ℎ harmonic with respecto to the 1𝑠𝑡 amplitude\n",
    "#基于1𝑠𝑡振幅的𝑗𝑡ℎ谐波的振幅比的以10为底的对数\n",
    "# A11 A12 A13 A14 A21 A22 A23 A24 \n",
    "# np.mean?(A11 + A12 + A13 + A14) / A11 \n",
    "\n",
    "logR11 = np.log10(Ampij[1:4] / Ampij[0])\n",
    "logR21 = np.log10(Ampij[5:8] / Ampij[4])\n",
    "\n",
    "\n",
    "print(\"logR11:{}\".format(logR11))\n",
    "print(\"logR21:{}\".format(logR21))\n",
    "\n",
    "#Phases of the 𝑗𝑡ℎ harmonic of the 𝑖𝑡ℎ period remmaped to be between -pi and +pi\n",
    "#重新映射为-𝜋和+𝜋之间的𝑖𝑡ℎ周期的𝑗𝑡ℎ谐波的相位\n",
    "PHij = np.arctan2(new_popt[8:16], new_popt[:8])\n",
    "print(\"PHij:{}\".format(PHij))\n"
   ]
  },
  {
   "cell_type": "code",
   "execution_count": 125,
   "metadata": {},
   "outputs": [
    {
     "name": "stdout",
     "output_type": "stream",
     "text": [
      "logIQR:-1.803985098154827\n",
      "fs_abbe:(0.10175717173444786, 0.9585843089717754)\n"
     ]
    }
   ],
   "source": [
    "#Logarithm in base 10 of ratio between the IQR of the residuals of the fit periodic model \n",
    "#and the IQR of the raw magnitudes\n",
    "#拟合周期模型的残差的IQR与原始星等的IQR之间的比率的以10为底的对数\n",
    "residuals = mag - best_func(time, *new_popt)\n",
    "sorted_residuals = np.sort(residuals)\n",
    "residuals_iqr = np.percentile(sorted_residuals, 75) - np.percentile(sorted_residuals, 25)\n",
    "sorted_mag  = np.sort(mag)\n",
    "mag_iqr = np.percentile(sorted_mag, 75) - np.percentile(sorted_mag, 25)\n",
    "\n",
    "logIQR = np.log10(residuals_iqr / mag_iqr)\n",
    "\n",
    "print(\"logIQR:{}\".format(logIQR))\n",
    "\n",
    "#this paper\n",
    "#Abbe value of the residuals from the Fourier model subtraction of the first and second period\n",
    "#第一和第二周期的傅里叶模型减法的残差的Abbe值\n",
    "first_fit = harmonic_func(time, *popt)\n",
    "second_fit = best_func(time, *new_popt)\n",
    "first_residuals = mag - first_fit\n",
    "second_residuals = mag - second_fit \n",
    "fr_abbe = abbe(first_residuals)\n",
    "sr_abbe = abbe(second_residuals)\n",
    "fs_abbe = (fr_abbe, sr_abbe)\n",
    "print(\"fs_abbe:{}\".format(fs_abbe))"
   ]
  },
  {
   "cell_type": "code",
   "execution_count": null,
   "metadata": {},
   "outputs": [],
   "source": []
  },
  {
   "cell_type": "code",
   "execution_count": null,
   "metadata": {},
   "outputs": [],
   "source": []
  }
 ],
 "metadata": {
  "kernelspec": {
   "display_name": "aiastro",
   "language": "python",
   "name": "python3"
  },
  "language_info": {
   "codemirror_mode": {
    "name": "ipython",
    "version": 3
   },
   "file_extension": ".py",
   "mimetype": "text/x-python",
   "name": "python",
   "nbconvert_exporter": "python",
   "pygments_lexer": "ipython3",
   "version": "3.10.13"
  }
 },
 "nbformat": 4,
 "nbformat_minor": 4
}
